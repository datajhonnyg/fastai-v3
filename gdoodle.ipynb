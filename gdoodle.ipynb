{
  "nbformat": 4,
  "nbformat_minor": 0,
  "metadata": {
    "colab": {
      "name": "gdoodle.ipynb",
      "version": "0.3.2",
      "provenance": []
    },
    "kernelspec": {
      "name": "python3",
      "display_name": "Python 3"
    },
    "accelerator": "GPU"
  },
  "cells": [
    {
      "metadata": {
        "id": "7y8Ny9FEBlpc",
        "colab_type": "code",
        "colab": {
          "base_uri": "https://localhost:8080/",
          "height": 2002
        },
        "outputId": "32656809-58aa-41b7-bdf9-e168e4c46f6c"
      },
      "cell_type": "code",
      "source": [
        "!pip install torch_nightly -f https://download.pytorch.org/whl/nightly/cu92/torch_nightly.html\n",
        "!pip install fastai"
      ],
      "execution_count": 1,
      "outputs": [
        {
          "output_type": "stream",
          "text": [
            "Looking in links: https://download.pytorch.org/whl/nightly/cu92/torch_nightly.html\n",
            "Collecting torch_nightly\n",
            "\u001b[?25l  Downloading https://download.pytorch.org/whl/nightly/cu92/torch_nightly-1.0.0.dev20181029-cp36-cp36m-linux_x86_64.whl (578.2MB)\n",
            "\u001b[K    100% |████████████████████████████████| 578.2MB 22kB/s \n",
            "tcmalloc: large alloc 1073750016 bytes == 0x61a66000 @  0x7ff44ed582a4 0x594e17 0x626104 0x51190a 0x4f5277 0x510c78 0x5119bd 0x4f5277 0x4f3338 0x510fb0 0x5119bd 0x4f5277 0x4f3338 0x510fb0 0x5119bd 0x4f5277 0x4f3338 0x510fb0 0x5119bd 0x4f6070 0x510c78 0x5119bd 0x4f5277 0x4f3338 0x510fb0 0x5119bd 0x4f6070 0x4f3338 0x510fb0 0x5119bd 0x4f6070\n",
            "\u001b[?25hInstalling collected packages: torch-nightly\n",
            "Successfully installed torch-nightly-1.0.0.dev20181029\n",
            "Collecting fastai\n",
            "\u001b[?25l  Downloading https://files.pythonhosted.org/packages/9d/f0/26a56dcc84797bcb0c5b01b0c8abc59abc8dc4d13e3ced88ffaf06ccbb4a/fastai-1.0.18-py3-none-any.whl (109kB)\n",
            "\u001b[K    100% |████████████████████████████████| 112kB 4.3MB/s \n",
            "\u001b[?25hRequirement already satisfied: thinc==6.12.0 in /usr/local/lib/python3.6/dist-packages (from fastai) (6.12.0)\n",
            "Requirement already satisfied: nbformat in /usr/local/lib/python3.6/dist-packages (from fastai) (4.4.0)\n",
            "Requirement already satisfied: nbconvert in /usr/local/lib/python3.6/dist-packages (from fastai) (5.4.0)\n",
            "Requirement already satisfied: pyyaml in /usr/local/lib/python3.6/dist-packages (from fastai) (3.13)\n",
            "Requirement already satisfied: ipython in /usr/local/lib/python3.6/dist-packages (from fastai) (5.5.0)\n",
            "Requirement already satisfied: requests in /usr/local/lib/python3.6/dist-packages (from fastai) (2.18.4)\n",
            "Requirement already satisfied: scipy in /usr/local/lib/python3.6/dist-packages (from fastai) (0.19.1)\n",
            "Requirement already satisfied: typing in /usr/local/lib/python3.6/dist-packages (from fastai) (3.6.6)\n",
            "Collecting fastprogress>=0.1.15 (from fastai)\n",
            "  Downloading https://files.pythonhosted.org/packages/dc/b8/7ce2b3c6f886f5cb1b16e62d368456b4fdb7e16bba962571bc50dae49b30/fastprogress-0.1.15-py3-none-any.whl\n",
            "Requirement already satisfied: regex in /usr/local/lib/python3.6/dist-packages (from fastai) (2018.1.10)\n",
            "Requirement already satisfied: numpy>=1.12 in /usr/local/lib/python3.6/dist-packages (from fastai) (1.14.6)\n",
            "Requirement already satisfied: traitlets in /usr/local/lib/python3.6/dist-packages (from fastai) (4.3.2)\n",
            "Requirement already satisfied: spacy==2.0.16 in /usr/local/lib/python3.6/dist-packages (from fastai) (2.0.16)\n",
            "Collecting torchvision-nightly (from fastai)\n",
            "\u001b[?25l  Downloading https://files.pythonhosted.org/packages/ca/bd/d0f9a33c81c79710eb7ee428b66869b49a8be16c7f1e446c211a7fbfb7be/torchvision_nightly-0.2.1-py2.py3-none-any.whl (54kB)\n",
            "\u001b[K    100% |████████████████████████████████| 61kB 7.7MB/s \n",
            "\u001b[?25hRequirement already satisfied: cymem==2.0.2 in /usr/local/lib/python3.6/dist-packages (from fastai) (2.0.2)\n",
            "Collecting jupyter (from fastai)\n",
            "  Downloading https://files.pythonhosted.org/packages/83/df/0f5dd132200728a86190397e1ea87cd76244e42d39ec5e88efd25b2abd7e/jupyter-1.0.0-py2.py3-none-any.whl\n",
            "Requirement already satisfied: Pillow in /usr/local/lib/python3.6/dist-packages (from fastai) (4.0.0)\n",
            "Requirement already satisfied: pandas in /usr/local/lib/python3.6/dist-packages (from fastai) (0.22.0)\n",
            "Requirement already satisfied: matplotlib in /usr/local/lib/python3.6/dist-packages (from fastai) (2.1.2)\n",
            "Collecting dataclasses (from fastai)\n",
            "  Downloading https://files.pythonhosted.org/packages/26/2f/1095cdc2868052dd1e64520f7c0d5c8c550ad297e944e641dbf1ffbb9a5d/dataclasses-0.6-py3-none-any.whl\n",
            "Collecting notebook>=5.7.0 (from fastai)\n",
            "\u001b[?25l  Downloading https://files.pythonhosted.org/packages/44/16/9f108b675828c4117cfe72d8d0f97094163c40584e40c46ec48a1e862693/notebook-5.7.0-py2.py3-none-any.whl (9.0MB)\n",
            "\u001b[K    100% |████████████████████████████████| 9.0MB 3.8MB/s \n",
            "\u001b[?25hRequirement already satisfied: msgpack-numpy<0.4.4.0 in /usr/local/lib/python3.6/dist-packages (from thinc==6.12.0->fastai) (0.4.3.2)\n",
            "Requirement already satisfied: six<2.0.0,>=1.10.0 in /usr/local/lib/python3.6/dist-packages (from thinc==6.12.0->fastai) (1.11.0)\n",
            "Requirement already satisfied: tqdm<5.0.0,>=4.10.0 in /usr/local/lib/python3.6/dist-packages (from thinc==6.12.0->fastai) (4.28.1)\n",
            "Requirement already satisfied: wrapt<1.11.0,>=1.10.0 in /usr/local/lib/python3.6/dist-packages (from thinc==6.12.0->fastai) (1.10.11)\n",
            "Requirement already satisfied: cytoolz<0.10,>=0.9.0 in /usr/local/lib/python3.6/dist-packages (from thinc==6.12.0->fastai) (0.9.0.1)\n",
            "Requirement already satisfied: plac<1.0.0,>=0.9.6 in /usr/local/lib/python3.6/dist-packages (from thinc==6.12.0->fastai) (0.9.6)\n",
            "Requirement already satisfied: dill<0.3.0,>=0.2.7 in /usr/local/lib/python3.6/dist-packages (from thinc==6.12.0->fastai) (0.2.8.2)\n",
            "Requirement already satisfied: murmurhash<1.1.0,>=0.28.0 in /usr/local/lib/python3.6/dist-packages (from thinc==6.12.0->fastai) (1.0.1)\n",
            "Requirement already satisfied: preshed<3.0.0,>=2.0.1 in /usr/local/lib/python3.6/dist-packages (from thinc==6.12.0->fastai) (2.0.1)\n",
            "Requirement already satisfied: msgpack<1.0.0,>=0.5.6 in /usr/local/lib/python3.6/dist-packages (from thinc==6.12.0->fastai) (0.5.6)\n",
            "Requirement already satisfied: ipython-genutils in /usr/local/lib/python3.6/dist-packages (from nbformat->fastai) (0.2.0)\n",
            "Requirement already satisfied: jupyter-core in /usr/local/lib/python3.6/dist-packages (from nbformat->fastai) (4.4.0)\n",
            "Requirement already satisfied: jsonschema!=2.5.0,>=2.4 in /usr/local/lib/python3.6/dist-packages (from nbformat->fastai) (2.6.0)\n",
            "Requirement already satisfied: entrypoints>=0.2.2 in /usr/local/lib/python3.6/dist-packages (from nbconvert->fastai) (0.2.3)\n",
            "Requirement already satisfied: pandocfilters>=1.4.1 in /usr/local/lib/python3.6/dist-packages (from nbconvert->fastai) (1.4.2)\n",
            "Requirement already satisfied: testpath in /usr/local/lib/python3.6/dist-packages (from nbconvert->fastai) (0.4.2)\n",
            "Requirement already satisfied: pygments in /usr/local/lib/python3.6/dist-packages (from nbconvert->fastai) (2.1.3)\n",
            "Requirement already satisfied: jinja2 in /usr/local/lib/python3.6/dist-packages (from nbconvert->fastai) (2.10)\n",
            "Requirement already satisfied: mistune>=0.8.1 in /usr/local/lib/python3.6/dist-packages (from nbconvert->fastai) (0.8.4)\n",
            "Requirement already satisfied: bleach in /usr/local/lib/python3.6/dist-packages (from nbconvert->fastai) (3.0.2)\n",
            "Requirement already satisfied: defusedxml in /usr/local/lib/python3.6/dist-packages (from nbconvert->fastai) (0.5.0)\n",
            "Requirement already satisfied: prompt-toolkit<2.0.0,>=1.0.4 in /usr/local/lib/python3.6/dist-packages (from ipython->fastai) (1.0.15)\n",
            "Requirement already satisfied: pickleshare in /usr/local/lib/python3.6/dist-packages (from ipython->fastai) (0.7.5)\n",
            "Requirement already satisfied: decorator in /usr/local/lib/python3.6/dist-packages (from ipython->fastai) (4.3.0)\n",
            "Requirement already satisfied: setuptools>=18.5 in /usr/local/lib/python3.6/dist-packages (from ipython->fastai) (40.5.0)\n",
            "Requirement already satisfied: simplegeneric>0.8 in /usr/local/lib/python3.6/dist-packages (from ipython->fastai) (0.8.1)\n",
            "Requirement already satisfied: pexpect; sys_platform != \"win32\" in /usr/local/lib/python3.6/dist-packages (from ipython->fastai) (4.6.0)\n",
            "Requirement already satisfied: chardet<3.1.0,>=3.0.2 in /usr/local/lib/python3.6/dist-packages (from requests->fastai) (3.0.4)\n",
            "Requirement already satisfied: urllib3<1.23,>=1.21.1 in /usr/local/lib/python3.6/dist-packages (from requests->fastai) (1.22)\n",
            "Requirement already satisfied: idna<2.7,>=2.5 in /usr/local/lib/python3.6/dist-packages (from requests->fastai) (2.6)\n",
            "Requirement already satisfied: certifi>=2017.4.17 in /usr/local/lib/python3.6/dist-packages (from requests->fastai) (2018.10.15)\n",
            "Requirement already satisfied: ujson>=1.35 in /usr/local/lib/python3.6/dist-packages (from spacy==2.0.16->fastai) (1.35)\n",
            "Requirement already satisfied: ipykernel in /usr/local/lib/python3.6/dist-packages (from jupyter->fastai) (4.6.1)\n",
            "Collecting ipywidgets (from jupyter->fastai)\n",
            "\u001b[?25l  Downloading https://files.pythonhosted.org/packages/30/9a/a008c7b1183fac9e52066d80a379b3c64eab535bd9d86cdc29a0b766fd82/ipywidgets-7.4.2-py2.py3-none-any.whl (111kB)\n",
            "\u001b[K    100% |████████████████████████████████| 112kB 22.4MB/s \n",
            "\u001b[?25hCollecting jupyter-console (from jupyter->fastai)\n",
            "  Downloading https://files.pythonhosted.org/packages/cb/ee/6374ae8c21b7d0847f9c3722dcdfac986b8e54fa9ad9ea66e1eb6320d2b8/jupyter_console-6.0.0-py2.py3-none-any.whl\n",
            "Collecting qtconsole (from jupyter->fastai)\n",
            "\u001b[?25l  Downloading https://files.pythonhosted.org/packages/37/22/0d8474f78a8c421d485ac2339de7c871d535160f09f170de90c8185b87c4/qtconsole-4.4.2-py2.py3-none-any.whl (112kB)\n",
            "\u001b[K    100% |████████████████████████████████| 112kB 27.8MB/s \n",
            "\u001b[?25hRequirement already satisfied: olefile in /usr/local/lib/python3.6/dist-packages (from Pillow->fastai) (0.46)\n",
            "Requirement already satisfied: pytz>=2011k in /usr/local/lib/python3.6/dist-packages (from pandas->fastai) (2018.7)\n",
            "Requirement already satisfied: python-dateutil>=2 in /usr/local/lib/python3.6/dist-packages (from pandas->fastai) (2.5.3)\n",
            "Requirement already satisfied: pyparsing!=2.0.4,!=2.1.2,!=2.1.6,>=2.0.1 in /usr/local/lib/python3.6/dist-packages (from matplotlib->fastai) (2.2.2)\n",
            "Requirement already satisfied: cycler>=0.10 in /usr/local/lib/python3.6/dist-packages (from matplotlib->fastai) (0.10.0)\n",
            "Requirement already satisfied: tornado>=4 in /usr/local/lib/python3.6/dist-packages (from notebook>=5.7.0->fastai) (4.5.3)\n",
            "Requirement already satisfied: jupyter-client>=5.2.0 in /usr/local/lib/python3.6/dist-packages (from notebook>=5.7.0->fastai) (5.2.3)\n",
            "Requirement already satisfied: terminado>=0.8.1 in /usr/local/lib/python3.6/dist-packages (from notebook>=5.7.0->fastai) (0.8.1)\n",
            "Collecting Send2Trash (from notebook>=5.7.0->fastai)\n",
            "  Downloading https://files.pythonhosted.org/packages/49/46/c3dc27481d1cc57b9385aff41c474ceb7714f7935b1247194adae45db714/Send2Trash-1.5.0-py3-none-any.whl\n",
            "Collecting pyzmq>=17 (from notebook>=5.7.0->fastai)\n",
            "\u001b[?25l  Downloading https://files.pythonhosted.org/packages/48/93/59592cb294761aaa40589b544eaa5175446d687ff95beeeb666de60f3274/pyzmq-17.1.2-cp36-cp36m-manylinux1_x86_64.whl (998kB)\n",
            "\u001b[K    100% |████████████████████████████████| 1.0MB 19.7MB/s \n",
            "\u001b[?25hCollecting prometheus-client (from notebook>=5.7.0->fastai)\n",
            "  Downloading https://files.pythonhosted.org/packages/61/84/9aa657b215b04f21a72ca8e50ff159eef9795096683e4581a357baf4dde6/prometheus_client-0.4.2.tar.gz\n",
            "Requirement already satisfied: toolz>=0.8.0 in /usr/local/lib/python3.6/dist-packages (from cytoolz<0.10,>=0.9.0->thinc==6.12.0->fastai) (0.9.0)\n",
            "Requirement already satisfied: MarkupSafe>=0.23 in /usr/local/lib/python3.6/dist-packages (from jinja2->nbconvert->fastai) (1.0)\n",
            "Requirement already satisfied: webencodings in /usr/local/lib/python3.6/dist-packages (from bleach->nbconvert->fastai) (0.5.1)\n",
            "Requirement already satisfied: wcwidth in /usr/local/lib/python3.6/dist-packages (from prompt-toolkit<2.0.0,>=1.0.4->ipython->fastai) (0.1.7)\n",
            "Requirement already satisfied: ptyprocess>=0.5 in /usr/local/lib/python3.6/dist-packages (from pexpect; sys_platform != \"win32\"->ipython->fastai) (0.6.0)\n",
            "Collecting widgetsnbextension~=3.4.0 (from ipywidgets->jupyter->fastai)\n",
            "\u001b[?25l  Downloading https://files.pythonhosted.org/packages/8a/81/35789a3952afb48238289171728072d26d6e76649ddc8b3588657a2d78c1/widgetsnbextension-3.4.2-py2.py3-none-any.whl (2.2MB)\n",
            "\u001b[K    100% |████████████████████████████████| 2.2MB 1.5MB/s \n",
            "\u001b[?25hBuilding wheels for collected packages: prometheus-client\n",
            "  Running setup.py bdist_wheel for prometheus-client ... \u001b[?25l-\b \b\\\b \bdone\n",
            "\u001b[?25h  Stored in directory: /root/.cache/pip/wheels/b9/96/bc/e2acadc6bbfe57a1f631a34ca4ce6dd057af059b8d6878202b\n",
            "Successfully built prometheus-client\n",
            "\u001b[31mgoogle-colab 0.0.1a1 has requirement notebook~=5.2.0, but you'll have notebook 5.7.0 which is incompatible.\u001b[0m\n",
            "\u001b[31mtorchvision-nightly 0.2.1 has requirement pillow>=4.1.1, but you'll have pillow 4.0.0 which is incompatible.\u001b[0m\n",
            "\u001b[31mjupyter-console 6.0.0 has requirement prompt-toolkit<2.1.0,>=2.0.0, but you'll have prompt-toolkit 1.0.15 which is incompatible.\u001b[0m\n",
            "Installing collected packages: fastprogress, torchvision-nightly, Send2Trash, pyzmq, prometheus-client, notebook, widgetsnbextension, ipywidgets, jupyter-console, qtconsole, jupyter, dataclasses, fastai\n",
            "  Found existing installation: pyzmq 16.0.4\n",
            "    Uninstalling pyzmq-16.0.4:\n",
            "      Successfully uninstalled pyzmq-16.0.4\n",
            "  Found existing installation: notebook 5.2.2\n",
            "    Uninstalling notebook-5.2.2:\n",
            "      Successfully uninstalled notebook-5.2.2\n",
            "Successfully installed Send2Trash-1.5.0 dataclasses-0.6 fastai-1.0.18 fastprogress-0.1.15 ipywidgets-7.4.2 jupyter-1.0.0 jupyter-console-6.0.0 notebook-5.7.0 prometheus-client-0.4.2 pyzmq-17.1.2 qtconsole-4.4.2 torchvision-nightly-0.2.1 widgetsnbextension-3.4.2\n"
          ],
          "name": "stdout"
        }
      ]
    },
    {
      "metadata": {
        "id": "p00O1CgXBtv2",
        "colab_type": "code",
        "colab": {
          "base_uri": "https://localhost:8080/",
          "height": 420
        },
        "outputId": "eaf44a2a-4041-457c-8952-6b0b8e31cc32"
      },
      "cell_type": "code",
      "source": [
        "!pip install kaggle"
      ],
      "execution_count": 2,
      "outputs": [
        {
          "output_type": "stream",
          "text": [
            "Collecting kaggle\n",
            "\u001b[?25l  Downloading https://files.pythonhosted.org/packages/83/9b/ac57e15fbb239c6793c8d0b7dfd1a4c4a025eaa9f791b5388a7afb515aed/kaggle-1.5.0.tar.gz (53kB)\n",
            "\u001b[K    100% |████████████████████████████████| 61kB 4.2MB/s \n",
            "\u001b[?25hRequirement already satisfied: urllib3<1.23.0,>=1.15 in /usr/local/lib/python3.6/dist-packages (from kaggle) (1.22)\n",
            "Requirement already satisfied: six>=1.10 in /usr/local/lib/python3.6/dist-packages (from kaggle) (1.11.0)\n",
            "Requirement already satisfied: certifi in /usr/local/lib/python3.6/dist-packages (from kaggle) (2018.10.15)\n",
            "Requirement already satisfied: python-dateutil in /usr/local/lib/python3.6/dist-packages (from kaggle) (2.5.3)\n",
            "Requirement already satisfied: requests in /usr/local/lib/python3.6/dist-packages (from kaggle) (2.18.4)\n",
            "Requirement already satisfied: tqdm in /usr/local/lib/python3.6/dist-packages (from kaggle) (4.28.1)\n",
            "Collecting python-slugify (from kaggle)\n",
            "  Downloading https://files.pythonhosted.org/packages/00/ad/c778a6df614b6217c30fe80045b365bfa08b5dd3cb02e8b37a6d25126781/python-slugify-1.2.6.tar.gz\n",
            "Requirement already satisfied: chardet<3.1.0,>=3.0.2 in /usr/local/lib/python3.6/dist-packages (from requests->kaggle) (3.0.4)\n",
            "Requirement already satisfied: idna<2.7,>=2.5 in /usr/local/lib/python3.6/dist-packages (from requests->kaggle) (2.6)\n",
            "Collecting Unidecode>=0.04.16 (from python-slugify->kaggle)\n",
            "\u001b[?25l  Downloading https://files.pythonhosted.org/packages/59/ef/67085e30e8bbcdd76e2f0a4ad8151c13a2c5bce77c85f8cad6e1f16fb141/Unidecode-1.0.22-py2.py3-none-any.whl (235kB)\n",
            "\u001b[K    100% |████████████████████████████████| 235kB 7.7MB/s \n",
            "\u001b[?25hBuilding wheels for collected packages: kaggle, python-slugify\n",
            "  Running setup.py bdist_wheel for kaggle ... \u001b[?25l-\b \b\\\b \bdone\n",
            "\u001b[?25h  Stored in directory: /root/.cache/pip/wheels/8b/21/3b/a0076243c6ae12a6215b2da515fe06b539aee7217b406e510e\n",
            "  Running setup.py bdist_wheel for python-slugify ... \u001b[?25l-\b \bdone\n",
            "\u001b[?25h  Stored in directory: /root/.cache/pip/wheels/e3/65/da/2045deea3098ed7471eca0e2460cfbd3fdfe8c1d6fa6fcac92\n",
            "Successfully built kaggle python-slugify\n",
            "Installing collected packages: Unidecode, python-slugify, kaggle\n",
            "Successfully installed Unidecode-1.0.22 kaggle-1.5.0 python-slugify-1.2.6\n"
          ],
          "name": "stdout"
        }
      ]
    },
    {
      "metadata": {
        "id": "6cZdHEJkJc51",
        "colab_type": "code",
        "colab": {}
      },
      "cell_type": "code",
      "source": [
        "# import pandas as pd\n",
        "# import numpy as np\n",
        "\n",
        "%reload_ext autoreload\n",
        "%autoreload 2\n",
        "%matplotlib inline\n",
        "\n",
        "from fastai import *\n",
        "from fastai.vision import *\n",
        "\n",
        "\n",
        "%matplotlib inline\n",
        "import matplotlib.pyplot as plt\n",
        "import pandas as pd\n",
        "import numpy as np\n",
        "from pathlib import Path\n",
        "from concurrent.futures import ThreadPoolExecutor\n",
        "import cv2\n",
        "import shutil\n",
        "import PIL"
      ],
      "execution_count": 0,
      "outputs": []
    },
    {
      "metadata": {
        "id": "BOa3TcP7CUL9",
        "colab_type": "code",
        "colab": {
          "resources": {
            "http://localhost:8080/nbextensions/google.colab/files.js": {
              "data": "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",
              "ok": true,
              "headers": [
                [
                  "content-type",
                  "application/javascript"
                ]
              ],
              "status": 200,
              "status_text": ""
            }
          },
          "base_uri": "https://localhost:8080/",
          "height": 90
        },
        "outputId": "ec546327-49af-4dbe-f78d-c53ec51f255c"
      },
      "cell_type": "code",
      "source": [
        "from google.colab import files\n",
        "files.upload()"
      ],
      "execution_count": 4,
      "outputs": [
        {
          "output_type": "display_data",
          "data": {
            "text/html": [
              "\n",
              "     <input type=\"file\" id=\"files-c06a0ee9-033b-4d0a-a911-0759e3450bb9\" name=\"files[]\" multiple disabled />\n",
              "     <output id=\"result-c06a0ee9-033b-4d0a-a911-0759e3450bb9\">\n",
              "      Upload widget is only available when the cell has been executed in the\n",
              "      current browser session. Please rerun this cell to enable.\n",
              "      </output>\n",
              "      <script src=\"/nbextensions/google.colab/files.js\"></script> "
            ],
            "text/plain": [
              "<IPython.core.display.HTML object>"
            ]
          },
          "metadata": {
            "tags": []
          }
        },
        {
          "output_type": "stream",
          "text": [
            "Saving kaggle.json to kaggle.json\n"
          ],
          "name": "stdout"
        },
        {
          "output_type": "execute_result",
          "data": {
            "text/plain": [
              "{'kaggle.json': b'{\"username\":\"datajhonny\",\"key\":\"868f24119d6b14f1dcdc4b17761336c1\"}'}"
            ]
          },
          "metadata": {
            "tags": []
          },
          "execution_count": 4
        }
      ]
    },
    {
      "metadata": {
        "id": "ZksV2qA3CY8y",
        "colab_type": "code",
        "colab": {}
      },
      "cell_type": "code",
      "source": [
        "!mkdir -p ~/.kaggle\n",
        "!cp kaggle.json ~/.kaggle/"
      ],
      "execution_count": 0,
      "outputs": []
    },
    {
      "metadata": {
        "id": "u65rm55BCfyh",
        "colab_type": "code",
        "colab": {}
      },
      "cell_type": "code",
      "source": [
        "!chmod 600 /root/.kaggle/kaggle.json"
      ],
      "execution_count": 0,
      "outputs": []
    },
    {
      "metadata": {
        "id": "NblriiiMCwwp",
        "colab_type": "code",
        "colab": {
          "base_uri": "https://localhost:8080/",
          "height": 67
        },
        "outputId": "cf4670f6-460d-40cc-ce2e-5475937727ad"
      },
      "cell_type": "code",
      "source": [
        "!kaggle competitions download -c quickdraw-doodle-recognition -f test_simplified.csv -p data"
      ],
      "execution_count": 7,
      "outputs": [
        {
          "output_type": "stream",
          "text": [
            "Downloading test_simplified.csv to data\n",
            " 98% 58.0M/59.0M [00:00<00:00, 113MB/s] \n",
            "100% 59.0M/59.0M [00:00<00:00, 182MB/s]\n"
          ],
          "name": "stdout"
        }
      ]
    },
    {
      "metadata": {
        "id": "eDaz9sZRC7Ow",
        "colab_type": "code",
        "colab": {
          "base_uri": "https://localhost:8080/",
          "height": 67
        },
        "outputId": "0b0339eb-42e2-4533-8647-25e7847131c4"
      },
      "cell_type": "code",
      "source": [
        "!kaggle competitions download -c quickdraw-doodle-recognition -f train_simplified.zip -p data"
      ],
      "execution_count": 8,
      "outputs": [
        {
          "output_type": "stream",
          "text": [
            "Downloading train_simplified.zip to data\n",
            "100% 7.36G/7.37G [00:56<00:00, 145MB/s]\n",
            "100% 7.37G/7.37G [00:56<00:00, 139MB/s]\n"
          ],
          "name": "stdout"
        }
      ]
    },
    {
      "metadata": {
        "id": "7DiET6UtDjo9",
        "colab_type": "code",
        "colab": {
          "base_uri": "https://localhost:8080/",
          "height": 34
        },
        "outputId": "09f437ed-5858-4fb9-8572-44e2603866a2"
      },
      "cell_type": "code",
      "source": [
        "!ls"
      ],
      "execution_count": 9,
      "outputs": [
        {
          "output_type": "stream",
          "text": [
            "data  kaggle.json  sample_data\n"
          ],
          "name": "stdout"
        }
      ]
    },
    {
      "metadata": {
        "id": "3UbmKanMFwtn",
        "colab_type": "code",
        "colab": {}
      },
      "cell_type": "code",
      "source": [
        "!cd ../"
      ],
      "execution_count": 0,
      "outputs": []
    },
    {
      "metadata": {
        "id": "FThjiMrsHPcn",
        "colab_type": "code",
        "colab": {}
      },
      "cell_type": "code",
      "source": [
        "import os\n",
        "os.chdir('data')"
      ],
      "execution_count": 0,
      "outputs": []
    },
    {
      "metadata": {
        "id": "_q0JvHNmHayF",
        "colab_type": "code",
        "colab": {
          "base_uri": "https://localhost:8080/",
          "height": 5746
        },
        "outputId": "dca841e6-71c8-4432-faf7-166eb7845cc7"
      },
      "cell_type": "code",
      "source": [
        "!unzip train_simplified.zip -d train"
      ],
      "execution_count": 11,
      "outputs": [
        {
          "output_type": "stream",
          "text": [
            "Archive:  train_simplified.zip\n",
            "  inflating: train/fence.csv         \n",
            "  inflating: train/yoga.csv          \n",
            "  inflating: train/horse.csv         \n",
            "  inflating: train/sandwich.csv      \n",
            "  inflating: train/cat.csv           \n",
            "  inflating: train/camouflage.csv    \n",
            "  inflating: train/mosquito.csv      \n",
            "  inflating: train/see saw.csv       \n",
            "  inflating: train/onion.csv         \n",
            "  inflating: train/grapes.csv        \n",
            "  inflating: train/chandelier.csv    \n",
            "  inflating: train/stitches.csv      \n",
            "  inflating: train/sink.csv          \n",
            "  inflating: train/trumpet.csv       \n",
            "  inflating: train/cell phone.csv    \n",
            "  inflating: train/skyscraper.csv    \n",
            "  inflating: train/hourglass.csv     \n",
            "  inflating: train/donut.csv         \n",
            "  inflating: train/ceiling fan.csv   \n",
            "  inflating: train/bowtie.csv        \n",
            "  inflating: train/lipstick.csv      \n",
            "  inflating: train/suitcase.csv      \n",
            "  inflating: train/moon.csv          \n",
            "  inflating: train/dishwasher.csv    \n",
            "  inflating: train/mermaid.csv       \n",
            "  inflating: train/crocodile.csv     \n",
            "  inflating: train/tiger.csv         \n",
            "  inflating: train/trombone.csv      \n",
            "  inflating: train/hot air balloon.csv  \n",
            "  inflating: train/bread.csv         \n",
            "  inflating: train/bottlecap.csv     \n",
            "  inflating: train/mountain.csv      \n",
            "  inflating: train/pool.csv          \n",
            "  inflating: train/snake.csv         \n",
            "  inflating: train/dog.csv           \n",
            "  inflating: train/ambulance.csv     \n",
            "  inflating: train/backpack.csv      \n",
            "  inflating: train/dumbbell.csv      \n",
            "  inflating: train/elbow.csv         \n",
            "  inflating: train/frog.csv          \n",
            "  inflating: train/screwdriver.csv   \n",
            "  inflating: train/fire hydrant.csv  \n",
            "  inflating: train/squiggle.csv      \n",
            "  inflating: train/dresser.csv       \n",
            "  inflating: train/axe.csv           \n",
            "  inflating: train/mailbox.csv       \n",
            "  inflating: train/cannon.csv        \n",
            "  inflating: train/bear.csv          \n",
            "  inflating: train/hand.csv          \n",
            "  inflating: train/toilet.csv        \n",
            "  inflating: train/garden hose.csv   \n",
            "  inflating: train/tennis racquet.csv  \n",
            "  inflating: train/cup.csv           \n",
            "  inflating: train/drums.csv         \n",
            "  inflating: train/hat.csv           \n",
            "  inflating: train/bucket.csv        \n",
            "  inflating: train/stop sign.csv     \n",
            "  inflating: train/remote control.csv  \n",
            "  inflating: train/key.csv           \n",
            "  inflating: train/penguin.csv       \n",
            "  inflating: train/cookie.csv        \n",
            "  inflating: train/blackberry.csv    \n",
            "  inflating: train/shoe.csv          \n",
            "  inflating: train/popsicle.csv      \n",
            "  inflating: train/cruise ship.csv   \n",
            "  inflating: train/rabbit.csv        \n",
            "  inflating: train/spreadsheet.csv   \n",
            "  inflating: train/microwave.csv     \n",
            "  inflating: train/ant.csv           \n",
            "  inflating: train/parrot.csv        \n",
            "  inflating: train/wine bottle.csv   \n",
            "  inflating: train/bat.csv           \n",
            "  inflating: train/traffic light.csv  \n",
            "  inflating: train/whale.csv         \n",
            "  inflating: train/wheel.csv         \n",
            "  inflating: train/hockey stick.csv  \n",
            "  inflating: train/squirrel.csv      \n",
            "  inflating: train/panda.csv         \n",
            "  inflating: train/line.csv          \n",
            "  inflating: train/picture frame.csv  \n",
            "  inflating: train/finger.csv        \n",
            "  inflating: train/sailboat.csv      \n",
            "  inflating: train/compass.csv       \n",
            "  inflating: train/mouth.csv         \n",
            "  inflating: train/eraser.csv        \n",
            "  inflating: train/ladder.csv        \n",
            "  inflating: train/bench.csv         \n",
            "  inflating: train/frying pan.csv    \n",
            "  inflating: train/goatee.csv        \n",
            "  inflating: train/school bus.csv    \n",
            "  inflating: train/camel.csv         \n",
            "  inflating: train/flamingo.csv      \n",
            "  inflating: train/baseball bat.csv  \n",
            "  inflating: train/floor lamp.csv    \n",
            "  inflating: train/hedgehog.csv      \n",
            "  inflating: train/stereo.csv        \n",
            "  inflating: train/bridge.csv        \n",
            "  inflating: train/broccoli.csv      \n",
            "  inflating: train/blueberry.csv     \n",
            "  inflating: train/bathtub.csv       \n",
            "  inflating: train/cooler.csv        \n",
            "  inflating: train/coffee cup.csv    \n",
            "  inflating: train/grass.csv         \n",
            "  inflating: train/pickup truck.csv  \n",
            "  inflating: train/toe.csv           \n",
            "  inflating: train/monkey.csv        \n",
            "  inflating: train/string bean.csv   \n",
            "  inflating: train/soccer ball.csv   \n",
            "  inflating: train/zigzag.csv        \n",
            "  inflating: train/helicopter.csv    \n",
            "  inflating: train/smiley face.csv   \n",
            "  inflating: train/pig.csv           \n",
            "  inflating: train/octagon.csv       \n",
            "  inflating: train/skull.csv         \n",
            "  inflating: train/hospital.csv      \n",
            "  inflating: train/firetruck.csv     \n",
            "  inflating: train/leaf.csv          \n",
            "  inflating: train/megaphone.csv     \n",
            "  inflating: train/apple.csv         \n",
            "  inflating: train/stove.csv         \n",
            "  inflating: train/lightning.csv     \n",
            "  inflating: train/fireplace.csv     \n",
            "  inflating: train/banana.csv        \n",
            "  inflating: train/fork.csv          \n",
            "  inflating: train/foot.csv          \n",
            "  inflating: train/saw.csv           \n",
            "  inflating: train/purse.csv         \n",
            "  inflating: train/sword.csv         \n",
            "  inflating: train/saxophone.csv     \n",
            "  inflating: train/washing machine.csv  \n",
            "  inflating: train/parachute.csv     \n",
            "  inflating: train/alarm clock.csv   \n",
            "  inflating: train/anvil.csv         \n",
            "  inflating: train/birthday cake.csv  \n",
            "  inflating: train/snowman.csv       \n",
            "  inflating: train/beach.csv         \n",
            "  inflating: train/boomerang.csv     \n",
            "  inflating: train/snorkel.csv       \n",
            "  inflating: train/underwear.csv     \n",
            "  inflating: train/pillow.csv        \n",
            "  inflating: train/keyboard.csv      \n",
            "  inflating: train/sleeping bag.csv  \n",
            "  inflating: train/pear.csv          \n",
            "  inflating: train/church.csv        \n",
            "  inflating: train/ocean.csv         \n",
            "  inflating: train/headphones.csv    \n",
            "  inflating: train/lighthouse.csv    \n",
            "  inflating: train/star.csv          \n",
            "  inflating: train/campfire.csv      \n",
            "  inflating: train/rake.csv          \n",
            "  inflating: train/shark.csv         \n",
            "  inflating: train/camera.csv        \n",
            "  inflating: train/guitar.csv        \n",
            "  inflating: train/rain.csv          \n",
            "  inflating: train/calendar.csv      \n",
            "  inflating: train/vase.csv          \n",
            "  inflating: train/flower.csv        \n",
            "  inflating: train/sweater.csv       \n",
            "  inflating: train/mug.csv           \n",
            "  inflating: train/jail.csv          \n",
            "  inflating: train/telephone.csv     \n",
            "  inflating: train/pencil.csv        \n",
            "  inflating: train/speedboat.csv     \n",
            "  inflating: train/scorpion.csv      \n",
            "  inflating: train/flying saucer.csv  \n",
            "  inflating: train/jacket.csv        \n",
            "  inflating: train/microphone.csv    \n",
            "  inflating: train/cloud.csv         \n",
            "  inflating: train/marker.csv        \n",
            "  inflating: train/shovel.csv        \n",
            "  inflating: train/raccoon.csv       \n",
            "  inflating: train/steak.csv         \n",
            "  inflating: train/face.csv          \n",
            "  inflating: train/brain.csv         \n",
            "  inflating: train/passport.csv      \n",
            "  inflating: train/basketball.csv    \n",
            "  inflating: train/diamond.csv       \n",
            "  inflating: train/train.csv         \n",
            "  inflating: train/tent.csv          \n",
            "  inflating: train/beard.csv         \n",
            "  inflating: train/flip flops.csv    \n",
            "  inflating: train/kangaroo.csv      \n",
            "  inflating: train/tornado.csv       \n",
            "  inflating: train/house plant.csv   \n",
            "  inflating: train/lantern.csv       \n",
            "  inflating: train/canoe.csv         \n",
            "  inflating: train/castle.csv        \n",
            "  inflating: train/diving board.csv  \n",
            "  inflating: train/barn.csv          \n",
            "  inflating: train/bed.csv           \n",
            "  inflating: train/nail.csv          \n",
            "  inflating: train/hockey puck.csv   \n",
            "  inflating: train/peanut.csv        \n",
            "  inflating: train/bush.csv          \n",
            "  inflating: train/bus.csv           \n",
            "  inflating: train/animal migration.csv  \n",
            "  inflating: train/book.csv          \n",
            "  inflating: train/river.csv         \n",
            "  inflating: train/pizza.csv         \n",
            "  inflating: train/sheep.csv         \n",
            "  inflating: train/lion.csv          \n",
            "  inflating: train/postcard.csv      \n",
            "  inflating: train/sea turtle.csv    \n",
            "  inflating: train/roller coaster.csv  \n",
            "  inflating: train/ice cream.csv     \n",
            "  inflating: train/cello.csv         \n",
            "  inflating: train/strawberry.csv    \n",
            "  inflating: train/fan.csv           \n",
            "  inflating: train/drill.csv         \n",
            "  inflating: train/calculator.csv    \n",
            "  inflating: train/octopus.csv       \n",
            "  inflating: train/pineapple.csv     \n",
            "  inflating: train/hexagon.csv       \n",
            "  inflating: train/dragon.csv        \n",
            "  inflating: train/bicycle.csv       \n",
            "  inflating: train/square.csv        \n",
            "  inflating: train/tractor.csv       \n",
            "  inflating: train/toaster.csv       \n",
            "  inflating: train/butterfly.csv     \n",
            "  inflating: train/harp.csv          \n",
            "  inflating: train/crayon.csv        \n",
            "  inflating: train/t-shirt.csv       \n",
            "  inflating: train/necklace.csv      \n",
            "  inflating: train/paintbrush.csv    \n",
            "  inflating: train/bandage.csv       \n",
            "  inflating: train/arm.csv           \n",
            "  inflating: train/paint can.csv     \n",
            "  inflating: train/hot dog.csv       \n",
            "  inflating: train/swing set.csv     \n",
            "  inflating: train/door.csv          \n",
            "  inflating: train/dolphin.csv       \n",
            "  inflating: train/mouse.csv         \n",
            "  inflating: train/piano.csv         \n",
            "  inflating: train/mushroom.csv      \n",
            "  inflating: train/nose.csv          \n",
            "  inflating: train/bird.csv          \n",
            "  inflating: train/fish.csv          \n",
            "  inflating: train/table.csv         \n",
            "  inflating: train/light bulb.csv    \n",
            "  inflating: train/crown.csv         \n",
            "  inflating: train/duck.csv          \n",
            "  inflating: train/The Eiffel Tower.csv  \n",
            "  inflating: train/house.csv         \n",
            "  inflating: train/palm tree.csv     \n",
            "  inflating: train/cactus.csv        \n",
            "  inflating: train/hot tub.csv       \n",
            "  inflating: train/bee.csv           \n",
            "  inflating: train/bracelet.csv      \n",
            "  inflating: train/wine glass.csv    \n",
            "  inflating: train/The Mona Lisa.csv  \n",
            "  inflating: train/bulldozer.csv     \n",
            "  inflating: train/scissors.csv      \n",
            "  inflating: train/moustache.csv     \n",
            "  inflating: train/owl.csv           \n",
            "  inflating: train/eyeglasses.csv    \n",
            "  inflating: train/helmet.csv        \n",
            "  inflating: train/teapot.csv        \n",
            "  inflating: train/streetlight.csv   \n",
            "  inflating: train/candle.csv        \n",
            "  inflating: train/swan.csv          \n",
            "  inflating: train/map.csv           \n",
            "  inflating: train/angel.csv         \n",
            "  inflating: train/sock.csv          \n",
            "  inflating: train/rhinoceros.csv    \n",
            "  inflating: train/wristwatch.csv    \n",
            "  inflating: train/garden.csv        \n",
            "  inflating: train/leg.csv           \n",
            "  inflating: train/golf club.csv     \n",
            "  inflating: train/hurricane.csv     \n",
            "  inflating: train/matches.csv       \n",
            "  inflating: train/umbrella.csv      \n",
            "  inflating: train/pants.csv         \n",
            "  inflating: train/laptop.csv        \n",
            "  inflating: train/pond.csv          \n",
            "  inflating: train/spoon.csv         \n",
            "  inflating: train/asparagus.csv     \n",
            "  inflating: train/stairs.csv        \n",
            "  inflating: train/eye.csv           \n",
            "  inflating: train/submarine.csv     \n",
            "  inflating: train/cow.csv           \n",
            "  inflating: train/couch.csv         \n",
            "  inflating: train/broom.csv         \n",
            "  inflating: train/flashlight.csv    \n",
            "  inflating: train/potato.csv        \n",
            "  inflating: train/baseball.csv      \n",
            "  inflating: train/tree.csv          \n",
            "  inflating: train/circle.csv        \n",
            "  inflating: train/radio.csv         \n",
            "  inflating: train/clock.csv         \n",
            "  inflating: train/hammer.csv        \n",
            "  inflating: train/sun.csv           \n",
            "  inflating: train/stethoscope.csv   \n",
            "  inflating: train/ear.csv           \n",
            "  inflating: train/watermelon.csv    \n",
            "  inflating: train/cake.csv          \n",
            "  inflating: train/paper clip.csv    \n",
            "  inflating: train/windmill.csv      \n",
            "  inflating: train/violin.csv        \n",
            "  inflating: train/belt.csv          \n",
            "  inflating: train/pliers.csv        \n",
            "  inflating: train/elephant.csv      \n",
            "  inflating: train/knee.csv          \n",
            "  inflating: train/triangle.csv      \n",
            "  inflating: train/feather.csv       \n",
            "  inflating: train/computer.csv      \n",
            "  inflating: train/rainbow.csv       \n",
            "  inflating: train/lollipop.csv      \n",
            "  inflating: train/police car.csv    \n",
            "  inflating: train/shorts.csv        \n",
            "  inflating: train/skateboard.csv    \n",
            "  inflating: train/rollerskates.csv  \n",
            "  inflating: train/zebra.csv         \n",
            "  inflating: train/motorbike.csv     \n",
            "  inflating: train/spider.csv        \n",
            "  inflating: train/snail.csv         \n",
            "  inflating: train/toothbrush.csv    \n",
            "  inflating: train/binoculars.csv    \n",
            "  inflating: train/waterslide.csv    \n",
            "  inflating: train/truck.csv         \n",
            "  inflating: train/chair.csv         \n",
            "  inflating: train/airplane.csv      \n",
            "  inflating: train/peas.csv          \n",
            "  inflating: train/envelope.csv      \n",
            "  inflating: train/tooth.csv         \n",
            "  inflating: train/The Great Wall of China.csv  \n",
            "  inflating: train/crab.csv          \n",
            "  inflating: train/van.csv           \n",
            "  inflating: train/clarinet.csv      \n",
            "  inflating: train/car.csv           \n",
            "  inflating: train/carrot.csv        \n",
            "  inflating: train/basket.csv        \n",
            "  inflating: train/snowflake.csv     \n",
            "  inflating: train/power outlet.csv  \n",
            "  inflating: train/hamburger.csv     \n",
            "  inflating: train/lobster.csv       \n",
            "  inflating: train/toothpaste.csv    \n",
            "  inflating: train/teddy-bear.csv    \n",
            "  inflating: train/television.csv    \n",
            "  inflating: train/oven.csv          \n",
            "  inflating: train/giraffe.csv       \n"
          ],
          "name": "stdout"
        }
      ]
    },
    {
      "metadata": {
        "id": "BxqrXQsYJ2S_",
        "colab_type": "code",
        "colab": {
          "base_uri": "https://localhost:8080/",
          "height": 34
        },
        "outputId": "ef1f726f-e57c-4e97-b963-a61fbd8d776a"
      },
      "cell_type": "code",
      "source": [
        "%cd /content/data/train/"
      ],
      "execution_count": 17,
      "outputs": [
        {
          "output_type": "stream",
          "text": [
            "/content/data/train\n"
          ],
          "name": "stdout"
        }
      ]
    },
    {
      "metadata": {
        "id": "Zno5ueuUHrk6",
        "colab_type": "code",
        "colab": {}
      },
      "cell_type": "code",
      "source": [
        "df = pd.read_csv('hat.csv')"
      ],
      "execution_count": 0,
      "outputs": []
    },
    {
      "metadata": {
        "id": "x04YzKtGJZiD",
        "colab_type": "code",
        "colab": {
          "base_uri": "https://localhost:8080/",
          "height": 195
        },
        "outputId": "9a86827a-89d3-46ea-a23e-c5f989cb596e"
      },
      "cell_type": "code",
      "source": [
        "df.head()"
      ],
      "execution_count": 19,
      "outputs": [
        {
          "output_type": "execute_result",
          "data": {
            "text/html": [
              "<div>\n",
              "<style scoped>\n",
              "    .dataframe tbody tr th:only-of-type {\n",
              "        vertical-align: middle;\n",
              "    }\n",
              "\n",
              "    .dataframe tbody tr th {\n",
              "        vertical-align: top;\n",
              "    }\n",
              "\n",
              "    .dataframe thead th {\n",
              "        text-align: right;\n",
              "    }\n",
              "</style>\n",
              "<table border=\"1\" class=\"dataframe\">\n",
              "  <thead>\n",
              "    <tr style=\"text-align: right;\">\n",
              "      <th></th>\n",
              "      <th>countrycode</th>\n",
              "      <th>drawing</th>\n",
              "      <th>key_id</th>\n",
              "      <th>recognized</th>\n",
              "      <th>timestamp</th>\n",
              "      <th>word</th>\n",
              "    </tr>\n",
              "  </thead>\n",
              "  <tbody>\n",
              "    <tr>\n",
              "      <th>0</th>\n",
              "      <td>AU</td>\n",
              "      <td>[[[134, 117, 95, 62, 42, 25, 14, 3, 0], [14, 5...</td>\n",
              "      <td>5157744208248832</td>\n",
              "      <td>True</td>\n",
              "      <td>2017-03-28 07:06:35.700000</td>\n",
              "      <td>hat</td>\n",
              "    </tr>\n",
              "    <tr>\n",
              "      <th>1</th>\n",
              "      <td>US</td>\n",
              "      <td>[[[3, 98, 150, 223, 245, 255, 248, 223, 51, 0]...</td>\n",
              "      <td>5026092974866432</td>\n",
              "      <td>True</td>\n",
              "      <td>2017-03-09 19:22:16.288010</td>\n",
              "      <td>hat</td>\n",
              "    </tr>\n",
              "    <tr>\n",
              "      <th>2</th>\n",
              "      <td>DE</td>\n",
              "      <td>[[[0, 40, 110, 255], [70, 78, 82, 82]], [[101,...</td>\n",
              "      <td>6135868706258944</td>\n",
              "      <td>True</td>\n",
              "      <td>2017-01-27 19:36:27.153440</td>\n",
              "      <td>hat</td>\n",
              "    </tr>\n",
              "    <tr>\n",
              "      <th>3</th>\n",
              "      <td>US</td>\n",
              "      <td>[[[99, 110, 135, 160, 184, 205, 220, 231, 239]...</td>\n",
              "      <td>4954397018685440</td>\n",
              "      <td>True</td>\n",
              "      <td>2017-03-08 05:40:48.811520</td>\n",
              "      <td>hat</td>\n",
              "    </tr>\n",
              "    <tr>\n",
              "      <th>4</th>\n",
              "      <td>AU</td>\n",
              "      <td>[[[74, 71, 74, 81, 88, 95, 105, 116, 122, 143,...</td>\n",
              "      <td>5611676197978112</td>\n",
              "      <td>True</td>\n",
              "      <td>2017-03-11 06:47:33.367800</td>\n",
              "      <td>hat</td>\n",
              "    </tr>\n",
              "  </tbody>\n",
              "</table>\n",
              "</div>"
            ],
            "text/plain": [
              "  countrycode                                            drawing  \\\n",
              "0          AU  [[[134, 117, 95, 62, 42, 25, 14, 3, 0], [14, 5...   \n",
              "1          US  [[[3, 98, 150, 223, 245, 255, 248, 223, 51, 0]...   \n",
              "2          DE  [[[0, 40, 110, 255], [70, 78, 82, 82]], [[101,...   \n",
              "3          US  [[[99, 110, 135, 160, 184, 205, 220, 231, 239]...   \n",
              "4          AU  [[[74, 71, 74, 81, 88, 95, 105, 116, 122, 143,...   \n",
              "\n",
              "             key_id  recognized                   timestamp word  \n",
              "0  5157744208248832        True  2017-03-28 07:06:35.700000  hat  \n",
              "1  5026092974866432        True  2017-03-09 19:22:16.288010  hat  \n",
              "2  6135868706258944        True  2017-01-27 19:36:27.153440  hat  \n",
              "3  4954397018685440        True  2017-03-08 05:40:48.811520  hat  \n",
              "4  5611676197978112        True  2017-03-11 06:47:33.367800  hat  "
            ]
          },
          "metadata": {
            "tags": []
          },
          "execution_count": 19
        }
      ]
    },
    {
      "metadata": {
        "id": "Ic_o9R9vJ9EV",
        "colab_type": "code",
        "colab": {}
      },
      "cell_type": "code",
      "source": [
        "def file_len(fname):\n",
        "    with open(fname) as f:\n",
        "        for i, l in enumerate(f):\n",
        "            pass\n",
        "    return i + 1"
      ],
      "execution_count": 0,
      "outputs": []
    },
    {
      "metadata": {
        "id": "CMY1yXmmKDyH",
        "colab_type": "code",
        "colab": {
          "base_uri": "https://localhost:8080/",
          "height": 50
        },
        "outputId": "ee5b4ec1-f51f-4b0c-d40d-fc735a4c5bcd"
      },
      "cell_type": "code",
      "source": [
        "%%time\n",
        "def get_counts(path): return (path.stem, pd.read_csv(path).shape[0])\n",
        "with ThreadPoolExecutor(12) as e: counts = list(e.map(get_counts, Path('/content/data/train/').iterdir()))"
      ],
      "execution_count": 21,
      "outputs": [
        {
          "output_type": "stream",
          "text": [
            "CPU times: user 7min 23s, sys: 36.6 s, total: 7min 59s\n",
            "Wall time: 5min 42s\n"
          ],
          "name": "stdout"
        }
      ]
    },
    {
      "metadata": {
        "id": "xFArZNkENZ3c",
        "colab_type": "code",
        "colab": {}
      },
      "cell_type": "code",
      "source": [
        "BASE_SIZE = 256\n",
        "def draw_cv2(raw_strokes, size=256, lw=4, time_color=False):\n",
        "    img = np.zeros((BASE_SIZE, BASE_SIZE), np.uint8)\n",
        "    for t, stroke in enumerate(raw_strokes):\n",
        "        for i in range(len(stroke[0]) - 1):\n",
        "            color = 255 - min(t, 10) * 13 if time_color else 255\n",
        "            _ = cv2.line(img, (stroke[0][i], stroke[1][i]),\n",
        "                         (stroke[0][i + 1], stroke[1][i + 1]), color, lw)\n",
        "    img = cv2.copyMakeBorder(img,4,4,4,4,cv2.BORDER_CONSTANT)\n",
        "    if size != BASE_SIZE:\n",
        "        return cv2.resize(img, (size, size), interpolation=cv2.INTER_LINEAR)\n",
        "    else:\n",
        "        return img"
      ],
      "execution_count": 0,
      "outputs": []
    },
    {
      "metadata": {
        "id": "ZaEYVVbWKheo",
        "colab_type": "code",
        "colab": {
          "base_uri": "https://localhost:8080/",
          "height": 285
        },
        "outputId": "332fdf90-6814-44b2-8be9-cab6ce638cb5"
      },
      "cell_type": "code",
      "source": [
        "plt.imshow(draw_cv2(eval(df.loc[0, 'drawing']), size=128))"
      ],
      "execution_count": 23,
      "outputs": [
        {
          "output_type": "execute_result",
          "data": {
            "text/plain": [
              "<matplotlib.image.AxesImage at 0x7efc6b2e5c88>"
            ]
          },
          "metadata": {
            "tags": []
          },
          "execution_count": 23
        },
        {
          "output_type": "display_data",
          "data": {
            "image/png": "[encoded data removed]",
            "text/plain": [
              "<matplotlib.figure.Figure at 0x7efc82434080>"
            ]
          },
          "metadata": {
            "tags": []
          }
        }
      ]
    },
    {
      "metadata": {
        "id": "aPtA0R4LOLjr",
        "colab_type": "code",
        "colab": {}
      },
      "cell_type": "code",
      "source": [
        "sz = 128 # size\n",
        "r = 0.01 # portion of images to keep, we want only 1% of total train data\n",
        "shutil.rmtree(f'data/train-{sz}', ignore_errors=True) # deleting whatever we have saved earlier\n",
        "os.makedirs(f'data/train-{sz}') # best to have where to save the images"
      ],
      "execution_count": 0,
      "outputs": []
    },
    {
      "metadata": {
        "id": "cZW6oS5QOObK",
        "colab_type": "code",
        "colab": {}
      },
      "cell_type": "code",
      "source": [
        "def save_ims_from_df(path):\n",
        "    df = pd.read_csv(path)\n",
        "    selected = df[df.recognized==True].sample(int(r * df.shape[0]))\n",
        "    for row in selected.iterrows():\n",
        "        idx, drawing, label = row[0], eval(row[1].drawing), '_'.join(row[1].word.split())\n",
        "        ary = draw_cv2(drawing, size=128)\n",
        "        rgb_ary = np.repeat(ary[:,:,None], 3, -1)\n",
        "        PIL.Image.fromarray(rgb_ary).save(f'data/train-{sz}/{label}_{idx}.png')"
      ],
      "execution_count": 0,
      "outputs": []
    },
    {
      "metadata": {
        "id": "lDSG-5fLOOll",
        "colab_type": "code",
        "colab": {
          "base_uri": "https://localhost:8080/",
          "height": 50
        },
        "outputId": "19d10db6-ff31-4961-c256-e001c0d91a1b"
      },
      "cell_type": "code",
      "source": [
        "%%time\n",
        "with ThreadPoolExecutor(12) as e: e.map(save_ims_from_df, Path('/content/data/train/').iterdir())"
      ],
      "execution_count": 26,
      "outputs": [
        {
          "output_type": "stream",
          "text": [
            "CPU times: user 36min 8s, sys: 6min 20s, total: 42min 29s\n",
            "Wall time: 28min 27s\n"
          ],
          "name": "stdout"
        }
      ]
    },
    {
      "metadata": {
        "id": "eW_U3kx8OOtz",
        "colab_type": "code",
        "colab": {
          "base_uri": "https://localhost:8080/",
          "height": 185
        },
        "outputId": "77856069-1d51-4a64-b178-cbe2064ae56f"
      },
      "cell_type": "code",
      "source": [
        "!ls data/train-{sz} -lhS | head -n 10"
      ],
      "execution_count": 27,
      "outputs": [
        {
          "output_type": "stream",
          "text": [
            "total 2.0G\n",
            "-rw-r--r-- 1 root root 8.0K Nov  1 07:26 camouflage_113406.png\n",
            "-rw-r--r-- 1 root root 7.9K Nov  1 07:28 camouflage_149106.png\n",
            "-rw-r--r-- 1 root root 7.7K Nov  1 07:33 hurricane_118819.png\n",
            "-rw-r--r-- 1 root root 7.4K Nov  1 07:28 camouflage_19183.png\n",
            "-rw-r--r-- 1 root root 7.3K Nov  1 07:22 blackberry_119360.png\n",
            "-rw-r--r-- 1 root root 7.2K Nov  1 07:29 brain_17517.png\n",
            "-rw-r--r-- 1 root root 7.1K Nov  1 07:23 blackberry_43402.png\n",
            "-rw-r--r-- 1 root root 7.1K Nov  1 07:23 blackberry_60078.png\n",
            "-rw-r--r-- 1 root root 7.1K Nov  1 07:23 blackberry_109732.png\n"
          ],
          "name": "stdout"
        }
      ]
    },
    {
      "metadata": {
        "id": "ccyLMkpsVgxg",
        "colab_type": "code",
        "colab": {
          "base_uri": "https://localhost:8080/",
          "height": 145
        },
        "outputId": "ed266929-f26e-4da3-9218-43a6478ae23a"
      },
      "cell_type": "code",
      "source": [
        "PIL.Image.open(f'data/train-{sz}/blackberry_119360.png')"
      ],
      "execution_count": 29,
      "outputs": [
        {
          "output_type": "execute_result",
          "data": {
            "image/png": "[encoded data removed]",
            "text/plain": [
              "<PIL.PngImagePlugin.PngImageFile image mode=RGB size=128x128 at 0x7EFC65A26828>"
            ]
          },
          "metadata": {
            "tags": []
          },
          "execution_count": 29
        }
      ]
    },
    {
      "metadata": {
        "id": "XXxWamaLVg5D",
        "colab_type": "code",
        "colab": {}
      },
      "cell_type": "code",
      "source": [
        "df = pd.read_csv('/content/data/test_simplified.csv')"
      ],
      "execution_count": 0,
      "outputs": []
    },
    {
      "metadata": {
        "id": "6_tMZntLVg8K",
        "colab_type": "code",
        "colab": {
          "base_uri": "https://localhost:8080/",
          "height": 195
        },
        "outputId": "3c709ae3-48ae-4df8-8eef-7bbebbe0ef7a"
      },
      "cell_type": "code",
      "source": [
        "df.head()"
      ],
      "execution_count": 31,
      "outputs": [
        {
          "output_type": "execute_result",
          "data": {
            "text/html": [
              "<div>\n",
              "<style scoped>\n",
              "    .dataframe tbody tr th:only-of-type {\n",
              "        vertical-align: middle;\n",
              "    }\n",
              "\n",
              "    .dataframe tbody tr th {\n",
              "        vertical-align: top;\n",
              "    }\n",
              "\n",
              "    .dataframe thead th {\n",
              "        text-align: right;\n",
              "    }\n",
              "</style>\n",
              "<table border=\"1\" class=\"dataframe\">\n",
              "  <thead>\n",
              "    <tr style=\"text-align: right;\">\n",
              "      <th></th>\n",
              "      <th>key_id</th>\n",
              "      <th>countrycode</th>\n",
              "      <th>drawing</th>\n",
              "    </tr>\n",
              "  </thead>\n",
              "  <tbody>\n",
              "    <tr>\n",
              "      <th>0</th>\n",
              "      <td>9000003627287624</td>\n",
              "      <td>DE</td>\n",
              "      <td>[[[17, 18, 20, 25, 137, 174, 242, 249, 251, 25...</td>\n",
              "    </tr>\n",
              "    <tr>\n",
              "      <th>1</th>\n",
              "      <td>9000010688666847</td>\n",
              "      <td>UA</td>\n",
              "      <td>[[[174, 145, 106, 38, 11, 4, 4, 15, 29, 78, 16...</td>\n",
              "    </tr>\n",
              "    <tr>\n",
              "      <th>2</th>\n",
              "      <td>9000023642890129</td>\n",
              "      <td>BG</td>\n",
              "      <td>[[[0, 12, 14, 17, 16, 24, 55, 57, 60, 79, 82, ...</td>\n",
              "    </tr>\n",
              "    <tr>\n",
              "      <th>3</th>\n",
              "      <td>9000038588854897</td>\n",
              "      <td>US</td>\n",
              "      <td>[[[0, 9, 23, 40, 54, 60, 81, 105, 123, 167, 20...</td>\n",
              "    </tr>\n",
              "    <tr>\n",
              "      <th>4</th>\n",
              "      <td>9000052667981386</td>\n",
              "      <td>AR</td>\n",
              "      <td>[[[87, 82, 71, 63, 66, 92, 96, 95], [220, 218,...</td>\n",
              "    </tr>\n",
              "  </tbody>\n",
              "</table>\n",
              "</div>"
            ],
            "text/plain": [
              "             key_id countrycode  \\\n",
              "0  9000003627287624          DE   \n",
              "1  9000010688666847          UA   \n",
              "2  9000023642890129          BG   \n",
              "3  9000038588854897          US   \n",
              "4  9000052667981386          AR   \n",
              "\n",
              "                                             drawing  \n",
              "0  [[[17, 18, 20, 25, 137, 174, 242, 249, 251, 25...  \n",
              "1  [[[174, 145, 106, 38, 11, 4, 4, 15, 29, 78, 16...  \n",
              "2  [[[0, 12, 14, 17, 16, 24, 55, 57, 60, 79, 82, ...  \n",
              "3  [[[0, 9, 23, 40, 54, 60, 81, 105, 123, 167, 20...  \n",
              "4  [[[87, 82, 71, 63, 66, 92, 96, 95], [220, 218,...  "
            ]
          },
          "metadata": {
            "tags": []
          },
          "execution_count": 31
        }
      ]
    },
    {
      "metadata": {
        "id": "FUpFfSegVg--",
        "colab_type": "code",
        "colab": {
          "base_uri": "https://localhost:8080/",
          "height": 34
        },
        "outputId": "26641c65-bfb7-44c4-d9e2-31afb86f6869"
      },
      "cell_type": "code",
      "source": [
        "df.shape"
      ],
      "execution_count": 32,
      "outputs": [
        {
          "output_type": "execute_result",
          "data": {
            "text/plain": [
              "(112199, 3)"
            ]
          },
          "metadata": {
            "tags": []
          },
          "execution_count": 32
        }
      ]
    },
    {
      "metadata": {
        "id": "b3p8buoIXBr-",
        "colab_type": "code",
        "colab": {}
      },
      "cell_type": "code",
      "source": [
        "shutil.rmtree(f'data/test-{sz}', ignore_errors=True)\n",
        "os.makedirs(f'data/test-{sz}')"
      ],
      "execution_count": 0,
      "outputs": []
    },
    {
      "metadata": {
        "id": "kjSsTUV4XB5r",
        "colab_type": "code",
        "colab": {}
      },
      "cell_type": "code",
      "source": [
        "def save_test_ims_from_df(path):\n",
        "    df = pd.read_csv(path)\n",
        "    for row in df.iterrows():\n",
        "        key_id, drawing = row[1].key_id, eval(row[1].drawing)\n",
        "        ary = draw_cv2(drawing, size=128)\n",
        "        rgb_ary = np.repeat(ary[:,:,None], 3, -1)\n",
        "        PIL.Image.fromarray(rgb_ary).save(f'data/test-{sz}/{key_id}.png')"
      ],
      "execution_count": 0,
      "outputs": []
    },
    {
      "metadata": {
        "id": "ASfQIUmxXB8v",
        "colab_type": "code",
        "colab": {
          "base_uri": "https://localhost:8080/",
          "height": 50
        },
        "outputId": "6312cb5c-12e0-4f3b-cd8f-6ab412637dd8"
      },
      "cell_type": "code",
      "source": [
        "%time save_test_ims_from_df('/content/data/test_simplified.csv')"
      ],
      "execution_count": 35,
      "outputs": [
        {
          "output_type": "stream",
          "text": [
            "CPU times: user 4min 22s, sys: 7.89 s, total: 4min 30s\n",
            "Wall time: 4min 31s\n"
          ],
          "name": "stdout"
        }
      ]
    },
    {
      "metadata": {
        "id": "tMvtyfSlZU53",
        "colab_type": "code",
        "colab": {
          "base_uri": "https://localhost:8080/",
          "height": 185
        },
        "outputId": "928c3d93-0813-4d93-f3b6-3e8417fab2a4"
      },
      "cell_type": "code",
      "source": [
        "ls -lht data/test-128 | head -n 10"
      ],
      "execution_count": 36,
      "outputs": [
        {
          "output_type": "stream",
          "text": [
            "total 457M\n",
            "-rw-r--r-- 1 root root 1.9K Nov  1 07:46 9999996442242305.png\n",
            "-rw-r--r-- 1 root root 2.6K Nov  1 07:46 9999969540362833.png\n",
            "-rw-r--r-- 1 root root 2.4K Nov  1 07:46 9999968529902445.png\n",
            "-rw-r--r-- 1 root root 2.6K Nov  1 07:46 9999967586702768.png\n",
            "-rw-r--r-- 1 root root 2.1K Nov  1 07:46 9999946504414373.png\n",
            "-rw-r--r-- 1 root root 2.5K Nov  1 07:46 9999938440174842.png\n",
            "-rw-r--r-- 1 root root  266 Nov  1 07:46 9999910529948270.png\n",
            "-rw-r--r-- 1 root root 2.1K Nov  1 07:46 9999904523466068.png\n",
            "-rw-r--r-- 1 root root 3.7K Nov  1 07:46 9999896606505463.png\n"
          ],
          "name": "stdout"
        }
      ]
    },
    {
      "metadata": {
        "id": "ltzObYtXZZFa",
        "colab_type": "code",
        "colab": {
          "base_uri": "https://localhost:8080/",
          "height": 145
        },
        "outputId": "8b7bdfea-45d4-46e1-e594-d6eca4554f40"
      },
      "cell_type": "code",
      "source": [
        "PIL.Image.open(f'data/test-{sz}/9999967586702768.png')"
      ],
      "execution_count": 37,
      "outputs": [
        {
          "output_type": "execute_result",
          "data": {
            "image/png": "[encoded data removed]",
            "text/plain": [
              "<PIL.PngImagePlugin.PngImageFile image mode=RGB size=128x128 at 0x7EFC69086DA0>"
            ]
          },
          "metadata": {
            "tags": []
          },
          "execution_count": 37
        }
      ]
    },
    {
      "metadata": {
        "id": "iMiD7NFML6Z8",
        "colab_type": "code",
        "colab": {}
      },
      "cell_type": "code",
      "source": [
        "sz = 128\n",
        "\n",
        "path = Path('data')\n",
        "path_img = path/f'train-{sz}'"
      ],
      "execution_count": 0,
      "outputs": []
    },
    {
      "metadata": {
        "id": "KQB6h0gZOA6x",
        "colab_type": "code",
        "colab": {
          "base_uri": "https://localhost:8080/",
          "height": 101
        },
        "outputId": "ceb13924-2c41-4fc7-f007-3f04cd77f018"
      },
      "cell_type": "code",
      "source": [
        "fnames = get_image_files(path_img)\n",
        "fnames[:5]"
      ],
      "execution_count": 39,
      "outputs": [
        {
          "output_type": "execute_result",
          "data": {
            "text/plain": [
              "[PosixPath('data/train-128/keyboard_136687.png'),\n",
              " PosixPath('data/train-128/eyeglasses_190533.png'),\n",
              " PosixPath('data/train-128/pineapple_80539.png'),\n",
              " PosixPath('data/train-128/peanut_97252.png'),\n",
              " PosixPath('data/train-128/harp_240816.png')]"
            ]
          },
          "metadata": {
            "tags": []
          },
          "execution_count": 39
        }
      ]
    },
    {
      "metadata": {
        "id": "0ixxmtI5OEQ0",
        "colab_type": "code",
        "colab": {}
      },
      "cell_type": "code",
      "source": [
        "pat = r'/([^/]+)_\\d+.png$'"
      ],
      "execution_count": 0,
      "outputs": []
    },
    {
      "metadata": {
        "id": "DKufnZTxZ0qB",
        "colab_type": "code",
        "colab": {}
      },
      "cell_type": "code",
      "source": [
        "data = ImageDataBunch.from_name_re(path_img, fnames, pat, ds_tfms=get_transforms(), size=128, test=Path('../test-128'), num_workers = 0)"
      ],
      "execution_count": 0,
      "outputs": []
    },
    {
      "metadata": {
        "id": "pBxftSc2Z4u3",
        "colab_type": "code",
        "colab": {
          "base_uri": "https://localhost:8080/",
          "height": 34
        },
        "outputId": "69cce2df-2e31-4556-c129-a7e086ec8122"
      },
      "cell_type": "code",
      "source": [
        "data.normalize(imagenet_stats)"
      ],
      "execution_count": 43,
      "outputs": [
        {
          "output_type": "execute_result",
          "data": {
            "text/plain": [
              "<fastai.vision.data.ImageDataBunch at 0x7efc62c0fd68>"
            ]
          },
          "metadata": {
            "tags": []
          },
          "execution_count": 43
        }
      ]
    },
    {
      "metadata": {
        "id": "oqcJQQVpZ-bu",
        "colab_type": "code",
        "colab": {
          "base_uri": "https://localhost:8080/",
          "height": 441
        },
        "outputId": "c4b8f4a1-a280-4aa2-d64d-0d00539c64b8"
      },
      "cell_type": "code",
      "source": [
        "data.show_batch(rows=3, figsize=(7,6))"
      ],
      "execution_count": 44,
      "outputs": [
        {
          "output_type": "display_data",
          "data": {
            "image/png": "[encoded data removed]",
            "text/plain": [
              "<matplotlib.figure.Figure at 0x7efc5e636da0>"
            ]
          },
          "metadata": {
            "tags": []
          }
        }
      ]
    },
    {
      "metadata": {
        "id": "kYdXdjogaCmz",
        "colab_type": "code",
        "colab": {
          "base_uri": "https://localhost:8080/",
          "height": 70
        },
        "outputId": "613a8017-61cc-4f61-b301-1364877faaba"
      },
      "cell_type": "code",
      "source": [
        "print(data.classes)\n",
        "len(data.classes),data.c"
      ],
      "execution_count": 45,
      "outputs": [
        {
          "output_type": "stream",
          "text": [
            "['keyboard', 'eyeglasses', 'pineapple', 'peanut', 'harp', 'paint_can', 'mermaid', 'foot', 'crown', 'camel', 'mug', 'mosquito', 'spoon', 'ice_cream', 'moon', 'ocean', 'hot_air_balloon', 'pencil', 'telephone', 'garden_hose', 'pond', 'bottlecap', 'parachute', 'school_bus', 'hospital', 'owl', 'fireplace', 'yoga', 'wheel', 'soccer_ball', 'clock', 'picture_frame', 'smiley_face', 'giraffe', 'toothbrush', 'potato', 'coffee_cup', 'bench', 'calculator', 'baseball', 'dresser', 'cow', 'eraser', 'snowman', 'key', 'saxophone', 'suitcase', 'violin', 'pig', 'mountain', 'pool', 'hurricane', 'toilet', 'sock', 'motorbike', 'sailboat', 'beard', 'fan', 'tractor', 'bird', 'marker', 'rainbow', 'eye', 'cup', 'rake', 'saw', 'birthday_cake', 'lantern', 'light_bulb', 'triangle', 'lollipop', 'frying_pan', 'bicycle', 'broccoli', 'lion', 'ear', 'sun', 'popsicle', 'diamond', 'knee', 'bathtub', 'stethoscope', 'shovel', 'hockey_stick', 'shorts', 'envelope', 'hot_dog', 'tooth', 'mouse', 'cactus', 'camouflage', 'onion', 'canoe', 'butterfly', 'hedgehog', 'tennis_racquet', 'camera', 'shark', 'dog', 'frog', 'barn', 'radio', 'backpack', 'goatee', 'sandwich', 'asparagus', 'hand', 'flip_flops', 'binoculars', 'grass', 'basket', 'pear', 'zebra', 'firetruck', 'banana', 'alarm_clock', 'pickup_truck', 'chair', 'The_Mona_Lisa', 'bridge', 'bear', 'square', 'washing_machine', 'see_saw', 'spreadsheet', 'sleeping_bag', 'pants', 'hamburger', 'table', 'elbow', 'ant', 'bat', 'submarine', 'donut', 'angel', 'dishwasher', 'bracelet', 'toaster', 'face', 'guitar', 'diving_board', 'shoe', 'wine_bottle', 'hat', 'wine_glass', 'calendar', 'truck', 'oven', 'candle', 'apple', 'crayon', 'raccoon', 'door', 'paintbrush', 'castle', 'scissors', 'snowflake', 'sword', 'cello', 'brain', 'ambulance', 'pliers', 'octagon', 'cake', 'piano', 'headphones', 'house', 'stereo', 'helicopter', 'snorkel', 'nose', 'cloud', 'octopus', 'squiggle', 'pillow', 'leg', 'lightning', 'river', 'trumpet', 'teapot', 'leaf', 'umbrella', 'blackberry', 'ceiling_fan', 'watermelon', 'peas', 'hockey_puck', 'cat', 'The_Great_Wall_of_China', 'pizza', 'flying_saucer', 'police_car', 'car', 'horse', 'tornado', 'church', 'penguin', 'flashlight', 'flower', 'anvil', 'swan', 'mouth', 'bus', 'stove', 'grapes', 'megaphone', 'wristwatch', 'dolphin', 'laptop', 'cooler', 'roller_coaster', 'snake', 'toothpaste', 'squirrel', 'screwdriver', 'kangaroo', 'matches', 'rabbit', 'skyscraper', 'stitches', 'postcard', 'streetlight', 'ladder', 'panda', 'drill', 'string_bean', 'mushroom', 'zigzag', 'rhinoceros', 'fork', 'train', 'blueberry', 'belt', 'bowtie', 'rollerskates', 'stop_sign', 'van', 'cookie', 'passport', 'finger', 'necklace', 'bush', 'arm', 'power_outlet', 'trombone', 'house_plant', 'remote_control', 'drums', 'vase', 'bee', 'television', 'cannon', 'tiger', 'purse', 'bulldozer', 'windmill', 'line', 'nail', 'compass', 'mailbox', 'fish', 'hammer', 'airplane', 'tree', 'crocodile', 'lipstick', 'rain', 'sea_turtle', 'speedboat', 'campfire', 'circle', 'golf_club', 'parrot', 'spider', 'moustache', 'waterslide', 'hourglass', 'monkey', 'palm_tree', 'strawberry', 'snail', 'baseball_bat', 'carrot', 'fence', 'underwear', 'clarinet', 'hexagon', 'bread', 'stairs', 'swing_set', 'jacket', 'whale', 'map', 'lighthouse', 'microwave', 'garden', 'axe', 'hot_tub', 'scorpion', 'cruise_ship', 'bandage', 'star', 'bucket', 'sink', 'tent', 'dragon', 'skateboard', 'computer', 'paper_clip', 'duck', 'toe', 'steak', 'crab', 'chandelier', 'jail', 'cell_phone', 'feather', 'sweater', 'skull', 'floor_lamp', 'couch', 'beach', 'bed', 'elephant', 'teddy-bear', 'The_Eiffel_Tower', 'microphone', 'sheep', 'fire_hydrant', 'animal_migration', 't-shirt', 'flamingo', 'boomerang', 'lobster', 'helmet', 'broom', 'traffic_light', 'dumbbell', 'book', 'basketball']\n"
          ],
          "name": "stdout"
        },
        {
          "output_type": "execute_result",
          "data": {
            "text/plain": [
              "(340, 340)"
            ]
          },
          "metadata": {
            "tags": []
          },
          "execution_count": 45
        }
      ]
    },
    {
      "metadata": {
        "id": "fz_BjZyvaGs5",
        "colab_type": "code",
        "colab": {
          "base_uri": "https://localhost:8080/",
          "height": 50
        },
        "outputId": "e516e172-fdd2-412b-e0cd-9c85b6768fc4"
      },
      "cell_type": "code",
      "source": [
        "learn = create_cnn(data, models.resnet34, metrics=error_rate)"
      ],
      "execution_count": 46,
      "outputs": [
        {
          "output_type": "stream",
          "text": [
            "Downloading: \"https://download.pytorch.org/models/resnet34-333f7ec4.pth\" to /root/.torch/models/resnet34-333f7ec4.pth\n",
            "100%|██████████| 87306240/87306240 [00:01<00:00, 67894058.27it/s]\n"
          ],
          "name": "stderr"
        }
      ]
    },
    {
      "metadata": {
        "id": "ZHzeaTHxaKvr",
        "colab_type": "code",
        "colab": {
          "base_uri": "https://localhost:8080/",
          "height": 134
        },
        "outputId": "7ce16c26-cb1a-4c46-e6f3-c4f51e295d8f"
      },
      "cell_type": "code",
      "source": [
        "learn.fit_one_cycle(4)"
      ],
      "execution_count": 47,
      "outputs": [
        {
          "output_type": "stream",
          "text": [
            "Total time: 3:24:43\n",
            "epoch  train_loss  valid_loss  error_rate\n",
            "1      1.895215    1.389054    0.377047    (55:24)\n",
            "2      1.591254    1.169487    0.324010    (50:20)\n",
            "3      1.421177    1.033293    0.290581    (49:28)\n",
            "4      1.372941    0.987382    0.278037    (49:29)\n",
            "\n"
          ],
          "name": "stdout"
        }
      ]
    },
    {
      "metadata": {
        "id": "Nt9WWaFsaRPf",
        "colab_type": "code",
        "colab": {}
      },
      "cell_type": "code",
      "source": [
        "learn.save('stage-1')"
      ],
      "execution_count": 0,
      "outputs": []
    },
    {
      "metadata": {
        "id": "Xn85AHODKdNR",
        "colab_type": "code",
        "colab": {}
      },
      "cell_type": "code",
      "source": [
        "interp = ClassificationInterpretation.from_learner(learn)"
      ],
      "execution_count": 0,
      "outputs": []
    },
    {
      "metadata": {
        "id": "CL3-p_WzKhE-",
        "colab_type": "code",
        "colab": {
          "base_uri": "https://localhost:8080/",
          "height": 725
        },
        "outputId": "d928560c-4da8-4036-ed02-5beb16984a6e"
      },
      "cell_type": "code",
      "source": [
        "interp.plot_top_losses(9, figsize=(15,11))"
      ],
      "execution_count": 51,
      "outputs": [
        {
          "output_type": "display_data",
          "data": {
            "image/png": "[encoded data removed]",
            "text/plain": [
              "<matplotlib.figure.Figure at 0x7efc6907b5f8>"
            ]
          },
          "metadata": {
            "tags": []
          }
        }
      ]
    },
    {
      "metadata": {
        "id": "nCWUA9mGLglZ",
        "colab_type": "code",
        "colab": {}
      },
      "cell_type": "code",
      "source": [
        "learn.load('stage-1')"
      ],
      "execution_count": 0,
      "outputs": []
    },
    {
      "metadata": {
        "id": "NLoO3kfjLo4I",
        "colab_type": "code",
        "colab": {}
      },
      "cell_type": "code",
      "source": [
        "learn.unfreeze()"
      ],
      "execution_count": 0,
      "outputs": []
    },
    {
      "metadata": {
        "id": "k3sx8g22Lrbh",
        "colab_type": "code",
        "colab": {
          "base_uri": "https://localhost:8080/",
          "height": 107
        },
        "outputId": "c4cc19a6-22a3-4ef0-a952-0a2827148b97"
      },
      "cell_type": "code",
      "source": [
        "learn.lr_find()"
      ],
      "execution_count": 55,
      "outputs": [
        {
          "output_type": "display_data",
          "data": {
            "text/html": [
              "\n",
              "    <div>\n",
              "        <style>\n",
              "        \t/* Turns off some styling */\n",
              "        \tprogress {\n",
              "\n",
              "            \t/* gets rid of default border in Firefox and Opera. */\n",
              "            \tborder: none;\n",
              "\n",
              "            \t/* Needs to be in here for Safari polyfill so background images work as expected. */\n",
              "            \tbackground-size: auto;\n",
              "            }\n",
              "\n",
              "            .progress-bar-interrupted, .progress-bar-interrupted::-webkit-progress-bar {\n",
              "                background: #F44336;\n",
              "            }\n",
              "        </style>\n",
              "      <progress value='0' class='' max='1', style='width:300px; height:20px; vertical-align: middle;'></progress>\n",
              "      0.00% [0/1 00:00<00:00]\n",
              "    </div>\n",
              "    \n",
              "<table style='width:300px; margin-bottom:10px'>\n",
              "  <tr>\n",
              "    <th>epoch</th>\n",
              "    <th>train_loss</th>\n",
              "    <th>valid_loss</th>\n",
              "    <th>error_rate</th>\n",
              "  </tr>\n",
              "  <tr>\n",
              "\n",
              "  </tr>\n",
              "</table>\n",
              "\n",
              "\n",
              "    <div>\n",
              "        <style>\n",
              "        \t/* Turns off some styling */\n",
              "        \tprogress {\n",
              "\n",
              "            \t/* gets rid of default border in Firefox and Opera. */\n",
              "            \tborder: none;\n",
              "\n",
              "            \t/* Needs to be in here for Safari polyfill so background images work as expected. */\n",
              "            \tbackground-size: auto;\n",
              "            }\n",
              "\n",
              "            .progress-bar-interrupted, .progress-bar-interrupted::-webkit-progress-bar {\n",
              "                background: #F44336;\n",
              "            }\n",
              "        </style>\n",
              "      <progress value='0' class='progress-bar-interrupted' max='6214', style='width:300px; height:20px; vertical-align: middle;'></progress>\n",
              "      Interrupted\n",
              "    </div>\n",
              "    "
            ],
            "text/plain": [
              "<IPython.core.display.HTML object>"
            ]
          },
          "metadata": {
            "tags": []
          }
        },
        {
          "output_type": "stream",
          "text": [
            "LR Finder complete, type {learner_name}.recorder.plot() to see the graph.\n"
          ],
          "name": "stdout"
        }
      ]
    },
    {
      "metadata": {
        "id": "rbvjCSXvLuCf",
        "colab_type": "code",
        "colab": {
          "base_uri": "https://localhost:8080/",
          "height": 283
        },
        "outputId": "94c9a8f2-0498-454f-d500-62374a2e0ef2"
      },
      "cell_type": "code",
      "source": [
        "learn.recorder.plot()"
      ],
      "execution_count": 56,
      "outputs": [
        {
          "output_type": "display_data",
          "data": {
            "image/png": "[encoded data removed]",
            "text/plain": [
              "<matplotlib.figure.Figure at 0x7efc6ba82e10>"
            ]
          },
          "metadata": {
            "tags": []
          }
        }
      ]
    },
    {
      "metadata": {
        "id": "6ax0xOzsM-pM",
        "colab_type": "code",
        "colab": {
          "base_uri": "https://localhost:8080/",
          "height": 101
        },
        "outputId": "69521430-6813-42f8-9bf1-5a31535e4c8d"
      },
      "cell_type": "code",
      "source": [
        "learn.fit_one_cycle(2, max_lr=slice(5e-6,3e-4))"
      ],
      "execution_count": 57,
      "outputs": [
        {
          "output_type": "stream",
          "text": [
            "Total time: 1:53:58\n",
            "epoch  train_loss  valid_loss  error_rate\n",
            "1      1.233313    0.914118    0.262098    (57:02)\n",
            "2      1.086864    0.821521    0.236970    (56:56)\n",
            "\n"
          ],
          "name": "stdout"
        }
      ]
    },
    {
      "metadata": {
        "id": "qcTsBtMmNDMO",
        "colab_type": "code",
        "colab": {}
      },
      "cell_type": "code",
      "source": [
        "learn.save('stage-2')"
      ],
      "execution_count": 0,
      "outputs": []
    },
    {
      "metadata": {
        "id": "H103w2qiajKC",
        "colab_type": "code",
        "colab": {}
      },
      "cell_type": "code",
      "source": [
        "learn.load('stage-2')"
      ],
      "execution_count": 0,
      "outputs": []
    },
    {
      "metadata": {
        "id": "QJUx4tffalwm",
        "colab_type": "code",
        "colab": {
          "base_uri": "https://localhost:8080/",
          "height": 50
        },
        "outputId": "cd50ea0f-fca6-45be-c21a-d268c7ef90f4"
      },
      "cell_type": "code",
      "source": [
        "preds = learn.TTA(is_test=True)[0]"
      ],
      "execution_count": 61,
      "outputs": [
        {
          "output_type": "stream",
          "text": [
            "Total time: 1:12:18\n",
            "\n"
          ],
          "name": "stdout"
        }
      ]
    },
    {
      "metadata": {
        "id": "WOC_Nu8caqC4",
        "colab_type": "code",
        "colab": {}
      },
      "cell_type": "code",
      "source": [
        "top_3 = np.argsort(preds.numpy())[:, ::-1][:, :3]"
      ],
      "execution_count": 0,
      "outputs": []
    },
    {
      "metadata": {
        "id": "XE5t8OQ5ayKq",
        "colab_type": "code",
        "colab": {}
      },
      "cell_type": "code",
      "source": [
        "n, _ = top_3.shape\n",
        "labels = []\n",
        "for i in range(n):\n",
        "    labels.append(' '.join([learn.data.train_ds.ds.classes[idx] for idx in top_3[i]]))"
      ],
      "execution_count": 0,
      "outputs": []
    },
    {
      "metadata": {
        "id": "s0Cc1FSlayHn",
        "colab_type": "code",
        "colab": {
          "base_uri": "https://localhost:8080/",
          "height": 145
        },
        "outputId": "ab26f396-9362-48b6-eb3b-fa63077afbcd"
      },
      "cell_type": "code",
      "source": [
        "learn.data.test_dl.dl.dataset[0][0]"
      ],
      "execution_count": 64,
      "outputs": [
        {
          "output_type": "execute_result",
          "data": {
            "image/png": "[encoded data removed]",
            "image/jpeg": "[encoded data removed]",
            "text/plain": [
              "Image (3, 128, 128)"
            ]
          },
          "metadata": {
            "tags": []
          },
          "execution_count": 64
        }
      ]
    },
    {
      "metadata": {
        "id": "Y47_8sMmayEf",
        "colab_type": "code",
        "colab": {
          "base_uri": "https://localhost:8080/",
          "height": 34
        },
        "outputId": "443b0075-3cc6-44f7-f3a0-22d3fce65d5e"
      },
      "cell_type": "code",
      "source": [
        "labels[0]"
      ],
      "execution_count": 65,
      "outputs": [
        {
          "output_type": "execute_result",
          "data": {
            "text/plain": [
              "'ladder dresser spreadsheet'"
            ]
          },
          "metadata": {
            "tags": []
          },
          "execution_count": 65
        }
      ]
    },
    {
      "metadata": {
        "id": "LjKoiptVayAr",
        "colab_type": "code",
        "colab": {}
      },
      "cell_type": "code",
      "source": [
        "key_ids = [path.stem for path in learn.data.test_dl.dl.dataset.x]"
      ],
      "execution_count": 0,
      "outputs": []
    },
    {
      "metadata": {
        "id": "-88PaGezax9X",
        "colab_type": "code",
        "colab": {}
      },
      "cell_type": "code",
      "source": [
        "os.makedirs(f'subs', exist_ok=True)"
      ],
      "execution_count": 0,
      "outputs": []
    },
    {
      "metadata": {
        "id": "V6GiGtAmbCIM",
        "colab_type": "code",
        "colab": {}
      },
      "cell_type": "code",
      "source": [
        "sub = pd.DataFrame({'key_id': key_ids, 'word': labels})"
      ],
      "execution_count": 0,
      "outputs": []
    },
    {
      "metadata": {
        "id": "pfXE4n1AbCEx",
        "colab_type": "code",
        "colab": {
          "base_uri": "https://localhost:8080/",
          "height": 195
        },
        "outputId": "add28c94-60ca-418b-cee7-7878e6eff761"
      },
      "cell_type": "code",
      "source": [
        "sub.head()"
      ],
      "execution_count": 71,
      "outputs": [
        {
          "output_type": "execute_result",
          "data": {
            "text/html": [
              "<div>\n",
              "<style scoped>\n",
              "    .dataframe tbody tr th:only-of-type {\n",
              "        vertical-align: middle;\n",
              "    }\n",
              "\n",
              "    .dataframe tbody tr th {\n",
              "        vertical-align: top;\n",
              "    }\n",
              "\n",
              "    .dataframe thead th {\n",
              "        text-align: right;\n",
              "    }\n",
              "</style>\n",
              "<table border=\"1\" class=\"dataframe\">\n",
              "  <thead>\n",
              "    <tr style=\"text-align: right;\">\n",
              "      <th></th>\n",
              "      <th>key_id</th>\n",
              "      <th>word</th>\n",
              "    </tr>\n",
              "  </thead>\n",
              "  <tbody>\n",
              "    <tr>\n",
              "      <th>0</th>\n",
              "      <td>9760195404283351</td>\n",
              "      <td>ladder dresser spreadsheet</td>\n",
              "    </tr>\n",
              "    <tr>\n",
              "      <th>1</th>\n",
              "      <td>9517257625365952</td>\n",
              "      <td>stairs castle dishwasher</td>\n",
              "    </tr>\n",
              "    <tr>\n",
              "      <th>2</th>\n",
              "      <td>9501636682182109</td>\n",
              "      <td>bowtie flashlight postcard</td>\n",
              "    </tr>\n",
              "    <tr>\n",
              "      <th>3</th>\n",
              "      <td>9722900602342671</td>\n",
              "      <td>square dragon speedboat</td>\n",
              "    </tr>\n",
              "    <tr>\n",
              "      <th>4</th>\n",
              "      <td>9739103665854306</td>\n",
              "      <td>flamingo swan giraffe</td>\n",
              "    </tr>\n",
              "  </tbody>\n",
              "</table>\n",
              "</div>"
            ],
            "text/plain": [
              "             key_id                        word\n",
              "0  9760195404283351  ladder dresser spreadsheet\n",
              "1  9517257625365952    stairs castle dishwasher\n",
              "2  9501636682182109  bowtie flashlight postcard\n",
              "3  9722900602342671     square dragon speedboat\n",
              "4  9739103665854306       flamingo swan giraffe"
            ]
          },
          "metadata": {
            "tags": []
          },
          "execution_count": 71
        }
      ]
    },
    {
      "metadata": {
        "id": "Qr-QvE_lbCBg",
        "colab_type": "code",
        "colab": {}
      },
      "cell_type": "code",
      "source": [
        "name = 'first_sub'"
      ],
      "execution_count": 0,
      "outputs": []
    },
    {
      "metadata": {
        "id": "tc52E41hbB9j",
        "colab_type": "code",
        "colab": {}
      },
      "cell_type": "code",
      "source": [
        "sub.to_csv(f'subs/{name}.csv.gz', index=False, compression='gzip')"
      ],
      "execution_count": 0,
      "outputs": []
    },
    {
      "metadata": {
        "id": "_e4PeujdbNKT",
        "colab_type": "code",
        "colab": {
          "base_uri": "https://localhost:8080/",
          "height": 195
        },
        "outputId": "eef4e23e-5848-40b0-aac9-832298ef5ac5"
      },
      "cell_type": "code",
      "source": [
        "pd.read_csv(f'subs/{name}.csv.gz').head()"
      ],
      "execution_count": 74,
      "outputs": [
        {
          "output_type": "execute_result",
          "data": {
            "text/html": [
              "<div>\n",
              "<style scoped>\n",
              "    .dataframe tbody tr th:only-of-type {\n",
              "        vertical-align: middle;\n",
              "    }\n",
              "\n",
              "    .dataframe tbody tr th {\n",
              "        vertical-align: top;\n",
              "    }\n",
              "\n",
              "    .dataframe thead th {\n",
              "        text-align: right;\n",
              "    }\n",
              "</style>\n",
              "<table border=\"1\" class=\"dataframe\">\n",
              "  <thead>\n",
              "    <tr style=\"text-align: right;\">\n",
              "      <th></th>\n",
              "      <th>key_id</th>\n",
              "      <th>word</th>\n",
              "    </tr>\n",
              "  </thead>\n",
              "  <tbody>\n",
              "    <tr>\n",
              "      <th>0</th>\n",
              "      <td>9760195404283351</td>\n",
              "      <td>ladder dresser spreadsheet</td>\n",
              "    </tr>\n",
              "    <tr>\n",
              "      <th>1</th>\n",
              "      <td>9517257625365952</td>\n",
              "      <td>stairs castle dishwasher</td>\n",
              "    </tr>\n",
              "    <tr>\n",
              "      <th>2</th>\n",
              "      <td>9501636682182109</td>\n",
              "      <td>bowtie flashlight postcard</td>\n",
              "    </tr>\n",
              "    <tr>\n",
              "      <th>3</th>\n",
              "      <td>9722900602342671</td>\n",
              "      <td>square dragon speedboat</td>\n",
              "    </tr>\n",
              "    <tr>\n",
              "      <th>4</th>\n",
              "      <td>9739103665854306</td>\n",
              "      <td>flamingo swan giraffe</td>\n",
              "    </tr>\n",
              "  </tbody>\n",
              "</table>\n",
              "</div>"
            ],
            "text/plain": [
              "             key_id                        word\n",
              "0  9760195404283351  ladder dresser spreadsheet\n",
              "1  9517257625365952    stairs castle dishwasher\n",
              "2  9501636682182109  bowtie flashlight postcard\n",
              "3  9722900602342671     square dragon speedboat\n",
              "4  9739103665854306       flamingo swan giraffe"
            ]
          },
          "metadata": {
            "tags": []
          },
          "execution_count": 74
        }
      ]
    },
    {
      "metadata": {
        "id": "yDhwyoNqbNlb",
        "colab_type": "code",
        "colab": {
          "base_uri": "https://localhost:8080/",
          "height": 50
        },
        "outputId": "9773662e-4510-46f5-d41a-dbd2653abef7"
      },
      "cell_type": "code",
      "source": [
        "!kaggle competitions submit -c quickdraw-doodle-recognition -f subs/{name}.csv.gz -m \"{name}\""
      ],
      "execution_count": 75,
      "outputs": [
        {
          "output_type": "stream",
          "text": [
            "100% 1.57M/1.57M [00:01<00:00, 1.26MB/s]\n",
            "Successfully submitted to Quick, Draw! Doodle Recognition Challenge"
          ],
          "name": "stdout"
        }
      ]
    },
    {
      "metadata": {
        "id": "L2v0t_rxtx9H",
        "colab_type": "code",
        "colab": {}
      },
      "cell_type": "code",
      "source": [
        ""
      ],
      "execution_count": 0,
      "outputs": []
    }
  ]
}