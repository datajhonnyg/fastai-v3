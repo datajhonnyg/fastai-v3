{
  "nbformat": 4,
  "nbformat_minor": 0,
  "metadata": {
    "colab": {
      "name": "gdoodle.ipynb",
      "version": "0.3.2",
      "provenance": []
    },
    "kernelspec": {
      "name": "python3",
      "display_name": "Python 3"
    },
    "accelerator": "GPU"
  },
  "cells": [
    {
      "metadata": {
        "id": "7y8Ny9FEBlpc",
        "colab_type": "code",
        "outputId": "59598804-1e68-4d51-88df-a1ee9b38158a",
        "colab": {
          "base_uri": "https://localhost:8080/",
          "height": 2002
        }
      },
      "cell_type": "code",
      "source": [
        "!pip install torch_nightly -f https://download.pytorch.org/whl/nightly/cu92/torch_nightly.html\n",
        "!pip install fastai"
      ],
      "execution_count": 0,
      "outputs": [
        {
          "output_type": "stream",
          "text": [
            "Looking in links: https://download.pytorch.org/whl/nightly/cu92/torch_nightly.html\n",
            "Collecting torch_nightly\n",
            "\u001b[?25l  Downloading https://download.pytorch.org/whl/nightly/cu92/torch_nightly-1.0.0.dev20181102-cp36-cp36m-linux_x86_64.whl (585.6MB)\n",
            "\u001b[K    100% |████████████████████████████████| 585.6MB 23kB/s \n",
            "tcmalloc: large alloc 1073750016 bytes == 0x61714000 @  0x7fce3fd072a4 0x594e17 0x626104 0x51190a 0x4f5277 0x510c78 0x5119bd 0x4f5277 0x4f3338 0x510fb0 0x5119bd 0x4f5277 0x4f3338 0x510fb0 0x5119bd 0x4f5277 0x4f3338 0x510fb0 0x5119bd 0x4f6070 0x510c78 0x5119bd 0x4f5277 0x4f3338 0x510fb0 0x5119bd 0x4f6070 0x4f3338 0x510fb0 0x5119bd 0x4f6070\n",
            "\u001b[?25hInstalling collected packages: torch-nightly\n",
            "Successfully installed torch-nightly-1.0.0.dev20181102\n",
            "Collecting fastai\n",
            "\u001b[?25l  Downloading https://files.pythonhosted.org/packages/9d/f0/26a56dcc84797bcb0c5b01b0c8abc59abc8dc4d13e3ced88ffaf06ccbb4a/fastai-1.0.18-py3-none-any.whl (109kB)\n",
            "\u001b[K    100% |████████████████████████████████| 112kB 2.7MB/s \n",
            "\u001b[?25hRequirement already satisfied: requests in /usr/local/lib/python3.6/dist-packages (from fastai) (2.18.4)\n",
            "Requirement already satisfied: nbconvert in /usr/local/lib/python3.6/dist-packages (from fastai) (5.4.0)\n",
            "Requirement already satisfied: numpy>=1.12 in /usr/local/lib/python3.6/dist-packages (from fastai) (1.14.6)\n",
            "Requirement already satisfied: Pillow in /usr/local/lib/python3.6/dist-packages (from fastai) (4.0.0)\n",
            "Collecting torchvision-nightly (from fastai)\n",
            "\u001b[?25l  Downloading https://files.pythonhosted.org/packages/ca/bd/d0f9a33c81c79710eb7ee428b66869b49a8be16c7f1e446c211a7fbfb7be/torchvision_nightly-0.2.1-py2.py3-none-any.whl (54kB)\n",
            "\u001b[K    100% |████████████████████████████████| 61kB 21.4MB/s \n",
            "\u001b[?25hRequirement already satisfied: scipy in /usr/local/lib/python3.6/dist-packages (from fastai) (0.19.1)\n",
            "Requirement already satisfied: traitlets in /usr/local/lib/python3.6/dist-packages (from fastai) (4.3.2)\n",
            "Requirement already satisfied: thinc==6.12.0 in /usr/local/lib/python3.6/dist-packages (from fastai) (6.12.0)\n",
            "Requirement already satisfied: matplotlib in /usr/local/lib/python3.6/dist-packages (from fastai) (2.1.2)\n",
            "Collecting jupyter (from fastai)\n",
            "  Downloading https://files.pythonhosted.org/packages/83/df/0f5dd132200728a86190397e1ea87cd76244e42d39ec5e88efd25b2abd7e/jupyter-1.0.0-py2.py3-none-any.whl\n",
            "Collecting fastprogress>=0.1.15 (from fastai)\n",
            "  Downloading https://files.pythonhosted.org/packages/dc/b8/7ce2b3c6f886f5cb1b16e62d368456b4fdb7e16bba962571bc50dae49b30/fastprogress-0.1.15-py3-none-any.whl\n",
            "Requirement already satisfied: typing in /usr/local/lib/python3.6/dist-packages (from fastai) (3.6.6)\n",
            "Requirement already satisfied: cymem==2.0.2 in /usr/local/lib/python3.6/dist-packages (from fastai) (2.0.2)\n",
            "Collecting dataclasses (from fastai)\n",
            "  Downloading https://files.pythonhosted.org/packages/26/2f/1095cdc2868052dd1e64520f7c0d5c8c550ad297e944e641dbf1ffbb9a5d/dataclasses-0.6-py3-none-any.whl\n",
            "Requirement already satisfied: pyyaml in /usr/local/lib/python3.6/dist-packages (from fastai) (3.13)\n",
            "Requirement already satisfied: ipython in /usr/local/lib/python3.6/dist-packages (from fastai) (5.5.0)\n",
            "Requirement already satisfied: regex in /usr/local/lib/python3.6/dist-packages (from fastai) (2018.1.10)\n",
            "Collecting notebook>=5.7.0 (from fastai)\n",
            "\u001b[?25l  Downloading https://files.pythonhosted.org/packages/44/16/9f108b675828c4117cfe72d8d0f97094163c40584e40c46ec48a1e862693/notebook-5.7.0-py2.py3-none-any.whl (9.0MB)\n",
            "\u001b[K    100% |████████████████████████████████| 9.0MB 3.9MB/s \n",
            "\u001b[?25hRequirement already satisfied: pandas in /usr/local/lib/python3.6/dist-packages (from fastai) (0.22.0)\n",
            "Requirement already satisfied: spacy==2.0.16 in /usr/local/lib/python3.6/dist-packages (from fastai) (2.0.16)\n",
            "Requirement already satisfied: nbformat in /usr/local/lib/python3.6/dist-packages (from fastai) (4.4.0)\n",
            "Requirement already satisfied: chardet<3.1.0,>=3.0.2 in /usr/local/lib/python3.6/dist-packages (from requests->fastai) (3.0.4)\n",
            "Requirement already satisfied: certifi>=2017.4.17 in /usr/local/lib/python3.6/dist-packages (from requests->fastai) (2018.10.15)\n",
            "Requirement already satisfied: idna<2.7,>=2.5 in /usr/local/lib/python3.6/dist-packages (from requests->fastai) (2.6)\n",
            "Requirement already satisfied: urllib3<1.23,>=1.21.1 in /usr/local/lib/python3.6/dist-packages (from requests->fastai) (1.22)\n",
            "Requirement already satisfied: testpath in /usr/local/lib/python3.6/dist-packages (from nbconvert->fastai) (0.4.2)\n",
            "Requirement already satisfied: bleach in /usr/local/lib/python3.6/dist-packages (from nbconvert->fastai) (3.0.2)\n",
            "Requirement already satisfied: defusedxml in /usr/local/lib/python3.6/dist-packages (from nbconvert->fastai) (0.5.0)\n",
            "Requirement already satisfied: pygments in /usr/local/lib/python3.6/dist-packages (from nbconvert->fastai) (2.1.3)\n",
            "Requirement already satisfied: pandocfilters>=1.4.1 in /usr/local/lib/python3.6/dist-packages (from nbconvert->fastai) (1.4.2)\n",
            "Requirement already satisfied: entrypoints>=0.2.2 in /usr/local/lib/python3.6/dist-packages (from nbconvert->fastai) (0.2.3)\n",
            "Requirement already satisfied: jinja2 in /usr/local/lib/python3.6/dist-packages (from nbconvert->fastai) (2.10)\n",
            "Requirement already satisfied: mistune>=0.8.1 in /usr/local/lib/python3.6/dist-packages (from nbconvert->fastai) (0.8.4)\n",
            "Requirement already satisfied: jupyter-core in /usr/local/lib/python3.6/dist-packages (from nbconvert->fastai) (4.4.0)\n",
            "Requirement already satisfied: olefile in /usr/local/lib/python3.6/dist-packages (from Pillow->fastai) (0.46)\n",
            "Requirement already satisfied: tqdm in /usr/local/lib/python3.6/dist-packages (from torchvision-nightly->fastai) (4.28.1)\n",
            "Requirement already satisfied: six in /usr/local/lib/python3.6/dist-packages (from torchvision-nightly->fastai) (1.11.0)\n",
            "Requirement already satisfied: decorator in /usr/local/lib/python3.6/dist-packages (from traitlets->fastai) (4.3.0)\n",
            "Requirement already satisfied: ipython-genutils in /usr/local/lib/python3.6/dist-packages (from traitlets->fastai) (0.2.0)\n",
            "Requirement already satisfied: msgpack<1.0.0,>=0.5.6 in /usr/local/lib/python3.6/dist-packages (from thinc==6.12.0->fastai) (0.5.6)\n",
            "Requirement already satisfied: msgpack-numpy<0.4.4.0 in /usr/local/lib/python3.6/dist-packages (from thinc==6.12.0->fastai) (0.4.3.2)\n",
            "Requirement already satisfied: murmurhash<1.1.0,>=0.28.0 in /usr/local/lib/python3.6/dist-packages (from thinc==6.12.0->fastai) (1.0.1)\n",
            "Requirement already satisfied: plac<1.0.0,>=0.9.6 in /usr/local/lib/python3.6/dist-packages (from thinc==6.12.0->fastai) (0.9.6)\n",
            "Requirement already satisfied: preshed<3.0.0,>=2.0.1 in /usr/local/lib/python3.6/dist-packages (from thinc==6.12.0->fastai) (2.0.1)\n",
            "Requirement already satisfied: wrapt<1.11.0,>=1.10.0 in /usr/local/lib/python3.6/dist-packages (from thinc==6.12.0->fastai) (1.10.11)\n",
            "Requirement already satisfied: cytoolz<0.10,>=0.9.0 in /usr/local/lib/python3.6/dist-packages (from thinc==6.12.0->fastai) (0.9.0.1)\n",
            "Requirement already satisfied: dill<0.3.0,>=0.2.7 in /usr/local/lib/python3.6/dist-packages (from thinc==6.12.0->fastai) (0.2.8.2)\n",
            "Requirement already satisfied: pytz in /usr/local/lib/python3.6/dist-packages (from matplotlib->fastai) (2018.7)\n",
            "Requirement already satisfied: python-dateutil>=2.1 in /usr/local/lib/python3.6/dist-packages (from matplotlib->fastai) (2.5.3)\n",
            "Requirement already satisfied: pyparsing!=2.0.4,!=2.1.2,!=2.1.6,>=2.0.1 in /usr/local/lib/python3.6/dist-packages (from matplotlib->fastai) (2.3.0)\n",
            "Requirement already satisfied: cycler>=0.10 in /usr/local/lib/python3.6/dist-packages (from matplotlib->fastai) (0.10.0)\n",
            "Collecting qtconsole (from jupyter->fastai)\n",
            "\u001b[?25l  Downloading https://files.pythonhosted.org/packages/37/22/0d8474f78a8c421d485ac2339de7c871d535160f09f170de90c8185b87c4/qtconsole-4.4.2-py2.py3-none-any.whl (112kB)\n",
            "\u001b[K    100% |████████████████████████████████| 112kB 29.8MB/s \n",
            "\u001b[?25hCollecting jupyter-console (from jupyter->fastai)\n",
            "  Downloading https://files.pythonhosted.org/packages/cb/ee/6374ae8c21b7d0847f9c3722dcdfac986b8e54fa9ad9ea66e1eb6320d2b8/jupyter_console-6.0.0-py2.py3-none-any.whl\n",
            "Collecting ipywidgets (from jupyter->fastai)\n",
            "\u001b[?25l  Downloading https://files.pythonhosted.org/packages/30/9a/a008c7b1183fac9e52066d80a379b3c64eab535bd9d86cdc29a0b766fd82/ipywidgets-7.4.2-py2.py3-none-any.whl (111kB)\n",
            "\u001b[K    100% |████████████████████████████████| 112kB 28.7MB/s \n",
            "\u001b[?25hRequirement already satisfied: ipykernel in /usr/local/lib/python3.6/dist-packages (from jupyter->fastai) (4.6.1)\n",
            "Requirement already satisfied: pickleshare in /usr/local/lib/python3.6/dist-packages (from ipython->fastai) (0.7.5)\n",
            "Requirement already satisfied: setuptools>=18.5 in /usr/local/lib/python3.6/dist-packages (from ipython->fastai) (40.5.0)\n",
            "Requirement already satisfied: simplegeneric>0.8 in /usr/local/lib/python3.6/dist-packages (from ipython->fastai) (0.8.1)\n",
            "Requirement already satisfied: prompt-toolkit<2.0.0,>=1.0.4 in /usr/local/lib/python3.6/dist-packages (from ipython->fastai) (1.0.15)\n",
            "Requirement already satisfied: pexpect; sys_platform != \"win32\" in /usr/local/lib/python3.6/dist-packages (from ipython->fastai) (4.6.0)\n",
            "Collecting pyzmq>=17 (from notebook>=5.7.0->fastai)\n",
            "\u001b[?25l  Downloading https://files.pythonhosted.org/packages/48/93/59592cb294761aaa40589b544eaa5175446d687ff95beeeb666de60f3274/pyzmq-17.1.2-cp36-cp36m-manylinux1_x86_64.whl (998kB)\n",
            "\u001b[K    100% |████████████████████████████████| 1.0MB 21.9MB/s \n",
            "\u001b[?25hCollecting Send2Trash (from notebook>=5.7.0->fastai)\n",
            "  Downloading https://files.pythonhosted.org/packages/49/46/c3dc27481d1cc57b9385aff41c474ceb7714f7935b1247194adae45db714/Send2Trash-1.5.0-py3-none-any.whl\n",
            "Requirement already satisfied: tornado>=4 in /usr/local/lib/python3.6/dist-packages (from notebook>=5.7.0->fastai) (4.5.3)\n",
            "Requirement already satisfied: jupyter-client>=5.2.0 in /usr/local/lib/python3.6/dist-packages (from notebook>=5.7.0->fastai) (5.2.3)\n",
            "Requirement already satisfied: terminado>=0.8.1 in /usr/local/lib/python3.6/dist-packages (from notebook>=5.7.0->fastai) (0.8.1)\n",
            "Collecting prometheus-client (from notebook>=5.7.0->fastai)\n",
            "  Downloading https://files.pythonhosted.org/packages/61/84/9aa657b215b04f21a72ca8e50ff159eef9795096683e4581a357baf4dde6/prometheus_client-0.4.2.tar.gz\n",
            "Requirement already satisfied: ujson>=1.35 in /usr/local/lib/python3.6/dist-packages (from spacy==2.0.16->fastai) (1.35)\n",
            "Requirement already satisfied: jsonschema!=2.5.0,>=2.4 in /usr/local/lib/python3.6/dist-packages (from nbformat->fastai) (2.6.0)\n",
            "Requirement already satisfied: webencodings in /usr/local/lib/python3.6/dist-packages (from bleach->nbconvert->fastai) (0.5.1)\n",
            "Requirement already satisfied: MarkupSafe>=0.23 in /usr/local/lib/python3.6/dist-packages (from jinja2->nbconvert->fastai) (1.0)\n",
            "Requirement already satisfied: toolz>=0.8.0 in /usr/local/lib/python3.6/dist-packages (from cytoolz<0.10,>=0.9.0->thinc==6.12.0->fastai) (0.9.0)\n",
            "Collecting widgetsnbextension~=3.4.0 (from ipywidgets->jupyter->fastai)\n",
            "\u001b[?25l  Downloading https://files.pythonhosted.org/packages/8a/81/35789a3952afb48238289171728072d26d6e76649ddc8b3588657a2d78c1/widgetsnbextension-3.4.2-py2.py3-none-any.whl (2.2MB)\n",
            "\u001b[K    100% |████████████████████████████████| 2.2MB 12.3MB/s \n",
            "\u001b[?25hRequirement already satisfied: wcwidth in /usr/local/lib/python3.6/dist-packages (from prompt-toolkit<2.0.0,>=1.0.4->ipython->fastai) (0.1.7)\n",
            "Requirement already satisfied: ptyprocess>=0.5 in /usr/local/lib/python3.6/dist-packages (from pexpect; sys_platform != \"win32\"->ipython->fastai) (0.6.0)\n",
            "Building wheels for collected packages: prometheus-client\n",
            "  Running setup.py bdist_wheel for prometheus-client ... \u001b[?25l-\b \bdone\n",
            "\u001b[?25h  Stored in directory: /root/.cache/pip/wheels/b9/96/bc/e2acadc6bbfe57a1f631a34ca4ce6dd057af059b8d6878202b\n",
            "Successfully built prometheus-client\n",
            "\u001b[31mgoogle-colab 0.0.1a1 has requirement notebook~=5.2.0, but you'll have notebook 5.7.0 which is incompatible.\u001b[0m\n",
            "\u001b[31mtorchvision-nightly 0.2.1 has requirement pillow>=4.1.1, but you'll have pillow 4.0.0 which is incompatible.\u001b[0m\n",
            "\u001b[31mjupyter-console 6.0.0 has requirement prompt-toolkit<2.1.0,>=2.0.0, but you'll have prompt-toolkit 1.0.15 which is incompatible.\u001b[0m\n",
            "Installing collected packages: torchvision-nightly, qtconsole, pyzmq, Send2Trash, prometheus-client, notebook, jupyter-console, widgetsnbextension, ipywidgets, jupyter, fastprogress, dataclasses, fastai\n",
            "  Found existing installation: pyzmq 16.0.4\n",
            "    Uninstalling pyzmq-16.0.4:\n",
            "      Successfully uninstalled pyzmq-16.0.4\n",
            "  Found existing installation: notebook 5.2.2\n",
            "    Uninstalling notebook-5.2.2:\n",
            "      Successfully uninstalled notebook-5.2.2\n",
            "Successfully installed Send2Trash-1.5.0 dataclasses-0.6 fastai-1.0.18 fastprogress-0.1.15 ipywidgets-7.4.2 jupyter-1.0.0 jupyter-console-6.0.0 notebook-5.7.0 prometheus-client-0.4.2 pyzmq-17.1.2 qtconsole-4.4.2 torchvision-nightly-0.2.1 widgetsnbextension-3.4.2\n"
          ],
          "name": "stdout"
        }
      ]
    },
    {
      "metadata": {
        "id": "p00O1CgXBtv2",
        "colab_type": "code",
        "outputId": "b2fa4908-5e78-41b1-92e8-824ce8b9bd6b",
        "colab": {
          "base_uri": "https://localhost:8080/",
          "height": 420
        }
      },
      "cell_type": "code",
      "source": [
        "!pip install kaggle"
      ],
      "execution_count": 0,
      "outputs": [
        {
          "output_type": "stream",
          "text": [
            "Collecting kaggle\n",
            "\u001b[?25l  Downloading https://files.pythonhosted.org/packages/83/9b/ac57e15fbb239c6793c8d0b7dfd1a4c4a025eaa9f791b5388a7afb515aed/kaggle-1.5.0.tar.gz (53kB)\n",
            "\r\u001b[K    19% |██████▏                         | 10kB 16.3MB/s eta 0:00:01\r\u001b[K    38% |████████████▎                   | 20kB 1.5MB/s eta 0:00:01\r\u001b[K    57% |██████████████████▌             | 30kB 2.2MB/s eta 0:00:01\r\u001b[K    77% |████████████████████████▋       | 40kB 1.6MB/s eta 0:00:01\r\u001b[K    96% |██████████████████████████████▉ | 51kB 2.0MB/s eta 0:00:01\r\u001b[K    100% |████████████████████████████████| 61kB 2.2MB/s \n",
            "\u001b[?25hRequirement already satisfied: urllib3<1.23.0,>=1.15 in /usr/local/lib/python3.6/dist-packages (from kaggle) (1.22)\n",
            "Requirement already satisfied: six>=1.10 in /usr/local/lib/python3.6/dist-packages (from kaggle) (1.11.0)\n",
            "Requirement already satisfied: certifi in /usr/local/lib/python3.6/dist-packages (from kaggle) (2018.10.15)\n",
            "Requirement already satisfied: python-dateutil in /usr/local/lib/python3.6/dist-packages (from kaggle) (2.5.3)\n",
            "Requirement already satisfied: requests in /usr/local/lib/python3.6/dist-packages (from kaggle) (2.18.4)\n",
            "Requirement already satisfied: tqdm in /usr/local/lib/python3.6/dist-packages (from kaggle) (4.28.1)\n",
            "Collecting python-slugify (from kaggle)\n",
            "  Downloading https://files.pythonhosted.org/packages/00/ad/c778a6df614b6217c30fe80045b365bfa08b5dd3cb02e8b37a6d25126781/python-slugify-1.2.6.tar.gz\n",
            "Requirement already satisfied: idna<2.7,>=2.5 in /usr/local/lib/python3.6/dist-packages (from requests->kaggle) (2.6)\n",
            "Requirement already satisfied: chardet<3.1.0,>=3.0.2 in /usr/local/lib/python3.6/dist-packages (from requests->kaggle) (3.0.4)\n",
            "Collecting Unidecode>=0.04.16 (from python-slugify->kaggle)\n",
            "\u001b[?25l  Downloading https://files.pythonhosted.org/packages/59/ef/67085e30e8bbcdd76e2f0a4ad8151c13a2c5bce77c85f8cad6e1f16fb141/Unidecode-1.0.22-py2.py3-none-any.whl (235kB)\n",
            "\u001b[K    100% |████████████████████████████████| 235kB 7.1MB/s \n",
            "\u001b[?25hBuilding wheels for collected packages: kaggle, python-slugify\n",
            "  Running setup.py bdist_wheel for kaggle ... \u001b[?25l-\b \b\\\b \bdone\n",
            "\u001b[?25h  Stored in directory: /root/.cache/pip/wheels/8b/21/3b/a0076243c6ae12a6215b2da515fe06b539aee7217b406e510e\n",
            "  Running setup.py bdist_wheel for python-slugify ... \u001b[?25l-\b \bdone\n",
            "\u001b[?25h  Stored in directory: /root/.cache/pip/wheels/e3/65/da/2045deea3098ed7471eca0e2460cfbd3fdfe8c1d6fa6fcac92\n",
            "Successfully built kaggle python-slugify\n",
            "Installing collected packages: Unidecode, python-slugify, kaggle\n",
            "Successfully installed Unidecode-1.0.22 kaggle-1.5.0 python-slugify-1.2.6\n"
          ],
          "name": "stdout"
        }
      ]
    },
    {
      "metadata": {
        "id": "6cZdHEJkJc51",
        "colab_type": "code",
        "colab": {}
      },
      "cell_type": "code",
      "source": [
        "# import pandas as pd\n",
        "# import numpy as np\n",
        "\n",
        "%reload_ext autoreload\n",
        "%autoreload 2\n",
        "%matplotlib inline\n",
        "\n",
        "from fastai import *\n",
        "from fastai.vision import *\n",
        "\n",
        "\n",
        "%matplotlib inline\n",
        "import matplotlib.pyplot as plt\n",
        "import pandas as pd\n",
        "import numpy as np\n",
        "from pathlib import Path\n",
        "from concurrent.futures import ThreadPoolExecutor\n",
        "import cv2\n",
        "import shutil\n",
        "import PIL"
      ],
      "execution_count": 0,
      "outputs": []
    },
    {
      "metadata": {
        "id": "BOa3TcP7CUL9",
        "colab_type": "code",
        "colab": {}
      },
      "cell_type": "code",
      "source": [
        "from google.colab import files\n",
        "files.upload()"
      ],
      "execution_count": 0,
      "outputs": []
    },
    {
      "metadata": {
        "id": "ZksV2qA3CY8y",
        "colab_type": "code",
        "colab": {}
      },
      "cell_type": "code",
      "source": [
        "!mkdir -p ~/.kaggle\n",
        "!cp kaggle.json ~/.kaggle/"
      ],
      "execution_count": 0,
      "outputs": []
    },
    {
      "metadata": {
        "id": "u65rm55BCfyh",
        "colab_type": "code",
        "colab": {}
      },
      "cell_type": "code",
      "source": [
        "!chmod 600 /root/.kaggle/kaggle.json"
      ],
      "execution_count": 0,
      "outputs": []
    },
    {
      "metadata": {
        "id": "NblriiiMCwwp",
        "colab_type": "code",
        "outputId": "b7403531-2791-404c-d9eb-b2aa2a3cafa7",
        "colab": {
          "base_uri": "https://localhost:8080/",
          "height": 67
        }
      },
      "cell_type": "code",
      "source": [
        "!kaggle competitions download -c quickdraw-doodle-recognition -f test_simplified.csv -p data"
      ],
      "execution_count": 0,
      "outputs": [
        {
          "output_type": "stream",
          "text": [
            "Downloading test_simplified.csv to data\n",
            " 98% 58.0M/59.0M [00:00<00:00, 63.7MB/s]\n",
            "100% 59.0M/59.0M [00:00<00:00, 82.0MB/s]\n"
          ],
          "name": "stdout"
        }
      ]
    },
    {
      "metadata": {
        "id": "eDaz9sZRC7Ow",
        "colab_type": "code",
        "outputId": "146a7a32-8af8-45d2-aa36-4a92fc280e92",
        "colab": {
          "base_uri": "https://localhost:8080/",
          "height": 67
        }
      },
      "cell_type": "code",
      "source": [
        "!kaggle competitions download -c quickdraw-doodle-recognition -f train_simplified.zip -p data"
      ],
      "execution_count": 0,
      "outputs": [
        {
          "output_type": "stream",
          "text": [
            "Downloading train_simplified.zip to data\n",
            "100% 7.36G/7.37G [01:34<00:00, 127MB/s]\n",
            "100% 7.37G/7.37G [01:34<00:00, 83.7MB/s]\n"
          ],
          "name": "stdout"
        }
      ]
    },
    {
      "metadata": {
        "id": "7DiET6UtDjo9",
        "colab_type": "code",
        "outputId": "3cf07c8e-a06f-42d4-8124-e7dfb0c7a818",
        "colab": {
          "base_uri": "https://localhost:8080/",
          "height": 34
        }
      },
      "cell_type": "code",
      "source": [
        "!ls"
      ],
      "execution_count": 0,
      "outputs": [
        {
          "output_type": "stream",
          "text": [
            "data  kaggle.json  sample_data\n"
          ],
          "name": "stdout"
        }
      ]
    },
    {
      "metadata": {
        "id": "3UbmKanMFwtn",
        "colab_type": "code",
        "colab": {}
      },
      "cell_type": "code",
      "source": [
        "!cd ../"
      ],
      "execution_count": 0,
      "outputs": []
    },
    {
      "metadata": {
        "id": "FThjiMrsHPcn",
        "colab_type": "code",
        "colab": {}
      },
      "cell_type": "code",
      "source": [
        "import os\n",
        "os.chdir('data')"
      ],
      "execution_count": 0,
      "outputs": []
    },
    {
      "metadata": {
        "id": "_q0JvHNmHayF",
        "colab_type": "code",
        "outputId": "24bbc2ac-0d86-4d9e-e1f1-94c62119b98b",
        "colab": {
          "base_uri": "https://localhost:8080/",
          "height": 5746
        }
      },
      "cell_type": "code",
      "source": [
        "!unzip train_simplified.zip -d train"
      ],
      "execution_count": 0,
      "outputs": [
        {
          "output_type": "stream",
          "text": [
            "Archive:  train_simplified.zip\n",
            "  inflating: train/fence.csv         \n",
            "  inflating: train/yoga.csv          \n",
            "  inflating: train/horse.csv         \n",
            "  inflating: train/sandwich.csv      \n",
            "  inflating: train/cat.csv           \n",
            "  inflating: train/camouflage.csv    \n",
            "  inflating: train/mosquito.csv      \n",
            "  inflating: train/see saw.csv       \n",
            "  inflating: train/onion.csv         \n",
            "  inflating: train/grapes.csv        \n",
            "  inflating: train/chandelier.csv    \n",
            "  inflating: train/stitches.csv      \n",
            "  inflating: train/sink.csv          \n",
            "  inflating: train/trumpet.csv       \n",
            "  inflating: train/cell phone.csv    \n",
            "  inflating: train/skyscraper.csv    \n",
            "  inflating: train/hourglass.csv     \n",
            "  inflating: train/donut.csv         \n",
            "  inflating: train/ceiling fan.csv   \n",
            "  inflating: train/bowtie.csv        \n",
            "  inflating: train/lipstick.csv      \n",
            "  inflating: train/suitcase.csv      \n",
            "  inflating: train/moon.csv          \n",
            "  inflating: train/dishwasher.csv    \n",
            "  inflating: train/mermaid.csv       \n",
            "  inflating: train/crocodile.csv     \n",
            "  inflating: train/tiger.csv         \n",
            "  inflating: train/trombone.csv      \n",
            "  inflating: train/hot air balloon.csv  \n",
            "  inflating: train/bread.csv         \n",
            "  inflating: train/bottlecap.csv     \n",
            "  inflating: train/mountain.csv      \n",
            "  inflating: train/pool.csv          \n",
            "  inflating: train/snake.csv         \n",
            "  inflating: train/dog.csv           \n",
            "  inflating: train/ambulance.csv     \n",
            "  inflating: train/backpack.csv      \n",
            "  inflating: train/dumbbell.csv      \n",
            "  inflating: train/elbow.csv         \n",
            "  inflating: train/frog.csv          \n",
            "  inflating: train/screwdriver.csv   \n",
            "  inflating: train/fire hydrant.csv  \n",
            "  inflating: train/squiggle.csv      \n",
            "  inflating: train/dresser.csv       \n",
            "  inflating: train/axe.csv           \n",
            "  inflating: train/mailbox.csv       \n",
            "  inflating: train/cannon.csv        \n",
            "  inflating: train/bear.csv          \n",
            "  inflating: train/hand.csv          \n",
            "  inflating: train/toilet.csv        \n",
            "  inflating: train/garden hose.csv   \n",
            "  inflating: train/tennis racquet.csv  \n",
            "  inflating: train/cup.csv           \n",
            "  inflating: train/drums.csv         \n",
            "  inflating: train/hat.csv           \n",
            "  inflating: train/bucket.csv        \n",
            "  inflating: train/stop sign.csv     \n",
            "  inflating: train/remote control.csv  \n",
            "  inflating: train/key.csv           \n",
            "  inflating: train/penguin.csv       \n",
            "  inflating: train/cookie.csv        \n",
            "  inflating: train/blackberry.csv    \n",
            "  inflating: train/shoe.csv          \n",
            "  inflating: train/popsicle.csv      \n",
            "  inflating: train/cruise ship.csv   \n",
            "  inflating: train/rabbit.csv        \n",
            "  inflating: train/spreadsheet.csv   \n",
            "  inflating: train/microwave.csv     \n",
            "  inflating: train/ant.csv           \n",
            "  inflating: train/parrot.csv        \n",
            "  inflating: train/wine bottle.csv   \n",
            "  inflating: train/bat.csv           \n",
            "  inflating: train/traffic light.csv  \n",
            "  inflating: train/whale.csv         \n",
            "  inflating: train/wheel.csv         \n",
            "  inflating: train/hockey stick.csv  \n",
            "  inflating: train/squirrel.csv      \n",
            "  inflating: train/panda.csv         \n",
            "  inflating: train/line.csv          \n",
            "  inflating: train/picture frame.csv  \n",
            "  inflating: train/finger.csv        \n",
            "  inflating: train/sailboat.csv      \n",
            "  inflating: train/compass.csv       \n",
            "  inflating: train/mouth.csv         \n",
            "  inflating: train/eraser.csv        \n",
            "  inflating: train/ladder.csv        \n",
            "  inflating: train/bench.csv         \n",
            "  inflating: train/frying pan.csv    \n",
            "  inflating: train/goatee.csv        \n",
            "  inflating: train/school bus.csv    \n",
            "  inflating: train/camel.csv         \n",
            "  inflating: train/flamingo.csv      \n",
            "  inflating: train/baseball bat.csv  \n",
            "  inflating: train/floor lamp.csv    \n",
            "  inflating: train/hedgehog.csv      \n",
            "  inflating: train/stereo.csv        \n",
            "  inflating: train/bridge.csv        \n",
            "  inflating: train/broccoli.csv      \n",
            "  inflating: train/blueberry.csv     \n",
            "  inflating: train/bathtub.csv       \n",
            "  inflating: train/cooler.csv        \n",
            "  inflating: train/coffee cup.csv    \n",
            "  inflating: train/grass.csv         \n",
            "  inflating: train/pickup truck.csv  \n",
            "  inflating: train/toe.csv           \n",
            "  inflating: train/monkey.csv        \n",
            "  inflating: train/string bean.csv   \n",
            "  inflating: train/soccer ball.csv   \n",
            "  inflating: train/zigzag.csv        \n",
            "  inflating: train/helicopter.csv    \n",
            "  inflating: train/smiley face.csv   \n",
            "  inflating: train/pig.csv           \n",
            "  inflating: train/octagon.csv       \n",
            "  inflating: train/skull.csv         \n",
            "  inflating: train/hospital.csv      \n",
            "  inflating: train/firetruck.csv     \n",
            "  inflating: train/leaf.csv          \n",
            "  inflating: train/megaphone.csv     \n",
            "  inflating: train/apple.csv         \n",
            "  inflating: train/stove.csv         \n",
            "  inflating: train/lightning.csv     \n",
            "  inflating: train/fireplace.csv     \n",
            "  inflating: train/banana.csv        \n",
            "  inflating: train/fork.csv          \n",
            "  inflating: train/foot.csv          \n",
            "  inflating: train/saw.csv           \n",
            "  inflating: train/purse.csv         \n",
            "  inflating: train/sword.csv         \n",
            "  inflating: train/saxophone.csv     \n",
            "  inflating: train/washing machine.csv  \n",
            "  inflating: train/parachute.csv     \n",
            "  inflating: train/alarm clock.csv   \n",
            "  inflating: train/anvil.csv         \n",
            "  inflating: train/birthday cake.csv  \n",
            "  inflating: train/snowman.csv       \n",
            "  inflating: train/beach.csv         \n",
            "  inflating: train/boomerang.csv     \n",
            "  inflating: train/snorkel.csv       \n",
            "  inflating: train/underwear.csv     \n",
            "  inflating: train/pillow.csv        \n",
            "  inflating: train/keyboard.csv      \n",
            "  inflating: train/sleeping bag.csv  \n",
            "  inflating: train/pear.csv          \n",
            "  inflating: train/church.csv        \n",
            "  inflating: train/ocean.csv         \n",
            "  inflating: train/headphones.csv    \n",
            "  inflating: train/lighthouse.csv    \n",
            "  inflating: train/star.csv          \n",
            "  inflating: train/campfire.csv      \n",
            "  inflating: train/rake.csv          \n",
            "  inflating: train/shark.csv         \n",
            "  inflating: train/camera.csv        \n",
            "  inflating: train/guitar.csv        \n",
            "  inflating: train/rain.csv          \n",
            "  inflating: train/calendar.csv      \n",
            "  inflating: train/vase.csv          \n",
            "  inflating: train/flower.csv        \n",
            "  inflating: train/sweater.csv       \n",
            "  inflating: train/mug.csv           \n",
            "  inflating: train/jail.csv          \n",
            "  inflating: train/telephone.csv     \n",
            "  inflating: train/pencil.csv        \n",
            "  inflating: train/speedboat.csv     \n",
            "  inflating: train/scorpion.csv      \n",
            "  inflating: train/flying saucer.csv  \n",
            "  inflating: train/jacket.csv        \n",
            "  inflating: train/microphone.csv    \n",
            "  inflating: train/cloud.csv         \n",
            "  inflating: train/marker.csv        \n",
            "  inflating: train/shovel.csv        \n",
            "  inflating: train/raccoon.csv       \n",
            "  inflating: train/steak.csv         \n",
            "  inflating: train/face.csv          \n",
            "  inflating: train/brain.csv         \n",
            "  inflating: train/passport.csv      \n",
            "  inflating: train/basketball.csv    \n",
            "  inflating: train/diamond.csv       \n",
            "  inflating: train/train.csv         \n",
            "  inflating: train/tent.csv          \n",
            "  inflating: train/beard.csv         \n",
            "  inflating: train/flip flops.csv    \n",
            "  inflating: train/kangaroo.csv      \n",
            "  inflating: train/tornado.csv       \n",
            "  inflating: train/house plant.csv   \n",
            "  inflating: train/lantern.csv       \n",
            "  inflating: train/canoe.csv         \n",
            "  inflating: train/castle.csv        \n",
            "  inflating: train/diving board.csv  \n",
            "  inflating: train/barn.csv          \n",
            "  inflating: train/bed.csv           \n",
            "  inflating: train/nail.csv          \n",
            "  inflating: train/hockey puck.csv   \n",
            "  inflating: train/peanut.csv        \n",
            "  inflating: train/bush.csv          \n",
            "  inflating: train/bus.csv           \n",
            "  inflating: train/animal migration.csv  \n",
            "  inflating: train/book.csv          \n",
            "  inflating: train/river.csv         \n",
            "  inflating: train/pizza.csv         \n",
            "  inflating: train/sheep.csv         \n",
            "  inflating: train/lion.csv          \n",
            "  inflating: train/postcard.csv      \n",
            "  inflating: train/sea turtle.csv    \n",
            "  inflating: train/roller coaster.csv  \n",
            "  inflating: train/ice cream.csv     \n",
            "  inflating: train/cello.csv         \n",
            "  inflating: train/strawberry.csv    \n",
            "  inflating: train/fan.csv           \n",
            "  inflating: train/drill.csv         \n",
            "  inflating: train/calculator.csv    \n",
            "  inflating: train/octopus.csv       \n",
            "  inflating: train/pineapple.csv     \n",
            "  inflating: train/hexagon.csv       \n",
            "  inflating: train/dragon.csv        \n",
            "  inflating: train/bicycle.csv       \n",
            "  inflating: train/square.csv        \n",
            "  inflating: train/tractor.csv       \n",
            "  inflating: train/toaster.csv       \n",
            "  inflating: train/butterfly.csv     \n",
            "  inflating: train/harp.csv          \n",
            "  inflating: train/crayon.csv        \n",
            "  inflating: train/t-shirt.csv       \n",
            "  inflating: train/necklace.csv      \n",
            "  inflating: train/paintbrush.csv    \n",
            "  inflating: train/bandage.csv       \n",
            "  inflating: train/arm.csv           \n",
            "  inflating: train/paint can.csv     \n",
            "  inflating: train/hot dog.csv       \n",
            "  inflating: train/swing set.csv     \n",
            "  inflating: train/door.csv          \n",
            "  inflating: train/dolphin.csv       \n",
            "  inflating: train/mouse.csv         \n",
            "  inflating: train/piano.csv         \n",
            "  inflating: train/mushroom.csv      \n",
            "  inflating: train/nose.csv          \n",
            "  inflating: train/bird.csv          \n",
            "  inflating: train/fish.csv          \n",
            "  inflating: train/table.csv         \n",
            "  inflating: train/light bulb.csv    \n",
            "  inflating: train/crown.csv         \n",
            "  inflating: train/duck.csv          \n",
            "  inflating: train/The Eiffel Tower.csv  \n",
            "  inflating: train/house.csv         \n",
            "  inflating: train/palm tree.csv     \n",
            "  inflating: train/cactus.csv        \n",
            "  inflating: train/hot tub.csv       \n",
            "  inflating: train/bee.csv           \n",
            "  inflating: train/bracelet.csv      \n",
            "  inflating: train/wine glass.csv    \n",
            "  inflating: train/The Mona Lisa.csv  \n",
            "  inflating: train/bulldozer.csv     \n",
            "  inflating: train/scissors.csv      \n",
            "  inflating: train/moustache.csv     \n",
            "  inflating: train/owl.csv           \n",
            "  inflating: train/eyeglasses.csv    \n",
            "  inflating: train/helmet.csv        \n",
            "  inflating: train/teapot.csv        \n",
            "  inflating: train/streetlight.csv   \n",
            "  inflating: train/candle.csv        \n",
            "  inflating: train/swan.csv          \n",
            "  inflating: train/map.csv           \n",
            "  inflating: train/angel.csv         \n",
            "  inflating: train/sock.csv          \n",
            "  inflating: train/rhinoceros.csv    \n",
            "  inflating: train/wristwatch.csv    \n",
            "  inflating: train/garden.csv        \n",
            "  inflating: train/leg.csv           \n",
            "  inflating: train/golf club.csv     \n",
            "  inflating: train/hurricane.csv     \n",
            "  inflating: train/matches.csv       \n",
            "  inflating: train/umbrella.csv      \n",
            "  inflating: train/pants.csv         \n",
            "  inflating: train/laptop.csv        \n",
            "  inflating: train/pond.csv          \n",
            "  inflating: train/spoon.csv         \n",
            "  inflating: train/asparagus.csv     \n",
            "  inflating: train/stairs.csv        \n",
            "  inflating: train/eye.csv           \n",
            "  inflating: train/submarine.csv     \n",
            "  inflating: train/cow.csv           \n",
            "  inflating: train/couch.csv         \n",
            "  inflating: train/broom.csv         \n",
            "  inflating: train/flashlight.csv    \n",
            "  inflating: train/potato.csv        \n",
            "  inflating: train/baseball.csv      \n",
            "  inflating: train/tree.csv          \n",
            "  inflating: train/circle.csv        \n",
            "  inflating: train/radio.csv         \n",
            "  inflating: train/clock.csv         \n",
            "  inflating: train/hammer.csv        \n",
            "  inflating: train/sun.csv           \n",
            "  inflating: train/stethoscope.csv   \n",
            "  inflating: train/ear.csv           \n",
            "  inflating: train/watermelon.csv    \n",
            "  inflating: train/cake.csv          \n",
            "  inflating: train/paper clip.csv    \n",
            "  inflating: train/windmill.csv      \n",
            "  inflating: train/violin.csv        \n",
            "  inflating: train/belt.csv          \n",
            "  inflating: train/pliers.csv        \n",
            "  inflating: train/elephant.csv      \n",
            "  inflating: train/knee.csv          \n",
            "  inflating: train/triangle.csv      \n",
            "  inflating: train/feather.csv       \n",
            "  inflating: train/computer.csv      \n",
            "  inflating: train/rainbow.csv       \n",
            "  inflating: train/lollipop.csv      \n",
            "  inflating: train/police car.csv    \n",
            "  inflating: train/shorts.csv        \n",
            "  inflating: train/skateboard.csv    \n",
            "  inflating: train/rollerskates.csv  \n",
            "  inflating: train/zebra.csv         \n",
            "  inflating: train/motorbike.csv     \n",
            "  inflating: train/spider.csv        \n",
            "  inflating: train/snail.csv         \n",
            "  inflating: train/toothbrush.csv    \n",
            "  inflating: train/binoculars.csv    \n",
            "  inflating: train/waterslide.csv    \n",
            "  inflating: train/truck.csv         \n",
            "  inflating: train/chair.csv         \n",
            "  inflating: train/airplane.csv      \n",
            "  inflating: train/peas.csv          \n",
            "  inflating: train/envelope.csv      \n",
            "  inflating: train/tooth.csv         \n",
            "  inflating: train/The Great Wall of China.csv  \n",
            "  inflating: train/crab.csv          \n",
            "  inflating: train/van.csv           \n",
            "  inflating: train/clarinet.csv      \n",
            "  inflating: train/car.csv           \n",
            "  inflating: train/carrot.csv        \n",
            "  inflating: train/basket.csv        \n",
            "  inflating: train/snowflake.csv     \n",
            "  inflating: train/power outlet.csv  \n",
            "  inflating: train/hamburger.csv     \n",
            "  inflating: train/lobster.csv       \n",
            "  inflating: train/toothpaste.csv    \n",
            "  inflating: train/teddy-bear.csv    \n",
            "  inflating: train/television.csv    \n",
            "  inflating: train/oven.csv          \n",
            "  inflating: train/giraffe.csv       \n"
          ],
          "name": "stdout"
        }
      ]
    },
    {
      "metadata": {
        "id": "BxqrXQsYJ2S_",
        "colab_type": "code",
        "outputId": "5ff34ec4-33ae-4f4e-f518-47c2fa9c9c98",
        "colab": {
          "base_uri": "https://localhost:8080/",
          "height": 34
        }
      },
      "cell_type": "code",
      "source": [
        "%cd /content/data/train/"
      ],
      "execution_count": 0,
      "outputs": [
        {
          "output_type": "stream",
          "text": [
            "/content/data/train\n"
          ],
          "name": "stdout"
        }
      ]
    },
    {
      "metadata": {
        "id": "Zno5ueuUHrk6",
        "colab_type": "code",
        "colab": {}
      },
      "cell_type": "code",
      "source": [
        "df = pd.read_csv('dog.csv')"
      ],
      "execution_count": 0,
      "outputs": []
    },
    {
      "metadata": {
        "id": "x04YzKtGJZiD",
        "colab_type": "code",
        "outputId": "722554f1-a663-48bc-e9a4-e8897caedfff",
        "colab": {
          "base_uri": "https://localhost:8080/",
          "height": 195
        }
      },
      "cell_type": "code",
      "source": [
        "df.head()"
      ],
      "execution_count": 0,
      "outputs": [
        {
          "output_type": "execute_result",
          "data": {
            "text/html": [
              "<div>\n",
              "<style scoped>\n",
              "    .dataframe tbody tr th:only-of-type {\n",
              "        vertical-align: middle;\n",
              "    }\n",
              "\n",
              "    .dataframe tbody tr th {\n",
              "        vertical-align: top;\n",
              "    }\n",
              "\n",
              "    .dataframe thead th {\n",
              "        text-align: right;\n",
              "    }\n",
              "</style>\n",
              "<table border=\"1\" class=\"dataframe\">\n",
              "  <thead>\n",
              "    <tr style=\"text-align: right;\">\n",
              "      <th></th>\n",
              "      <th>countrycode</th>\n",
              "      <th>drawing</th>\n",
              "      <th>key_id</th>\n",
              "      <th>recognized</th>\n",
              "      <th>timestamp</th>\n",
              "      <th>word</th>\n",
              "    </tr>\n",
              "  </thead>\n",
              "  <tbody>\n",
              "    <tr>\n",
              "      <th>0</th>\n",
              "      <td>US</td>\n",
              "      <td>[[[115, 110, 111, 130, 132, 125], [45, 52, 60,...</td>\n",
              "      <td>6718004173733888</td>\n",
              "      <td>True</td>\n",
              "      <td>2017-03-01 21:44:26.601760</td>\n",
              "      <td>dog</td>\n",
              "    </tr>\n",
              "    <tr>\n",
              "      <th>1</th>\n",
              "      <td>KR</td>\n",
              "      <td>[[[66, 65, 72, 81], [48, 11, 0, 41]], [[61, 28...</td>\n",
              "      <td>5319657680535552</td>\n",
              "      <td>True</td>\n",
              "      <td>2017-03-05 10:02:39.659490</td>\n",
              "      <td>dog</td>\n",
              "    </tr>\n",
              "    <tr>\n",
              "      <th>2</th>\n",
              "      <td>AE</td>\n",
              "      <td>[[[149, 138, 119, 107, 97, 52, 51, 59, 76, 98,...</td>\n",
              "      <td>6665679493136384</td>\n",
              "      <td>True</td>\n",
              "      <td>2017-03-05 10:43:54.155920</td>\n",
              "      <td>dog</td>\n",
              "    </tr>\n",
              "    <tr>\n",
              "      <th>3</th>\n",
              "      <td>US</td>\n",
              "      <td>[[[185, 114, 59, 16, 4, 0, 0, 6, 22, 60, 118, ...</td>\n",
              "      <td>6099729773494272</td>\n",
              "      <td>True</td>\n",
              "      <td>2017-03-05 04:37:45.214010</td>\n",
              "      <td>dog</td>\n",
              "    </tr>\n",
              "    <tr>\n",
              "      <th>4</th>\n",
              "      <td>US</td>\n",
              "      <td>[[[96, 98, 73, 50, 30, 19, 0, 2, 13, 23, 68, 1...</td>\n",
              "      <td>4831731276316672</td>\n",
              "      <td>True</td>\n",
              "      <td>2017-03-10 22:40:57.248030</td>\n",
              "      <td>dog</td>\n",
              "    </tr>\n",
              "  </tbody>\n",
              "</table>\n",
              "</div>"
            ],
            "text/plain": [
              "  countrycode                                            drawing  \\\n",
              "0          US  [[[115, 110, 111, 130, 132, 125], [45, 52, 60,...   \n",
              "1          KR  [[[66, 65, 72, 81], [48, 11, 0, 41]], [[61, 28...   \n",
              "2          AE  [[[149, 138, 119, 107, 97, 52, 51, 59, 76, 98,...   \n",
              "3          US  [[[185, 114, 59, 16, 4, 0, 0, 6, 22, 60, 118, ...   \n",
              "4          US  [[[96, 98, 73, 50, 30, 19, 0, 2, 13, 23, 68, 1...   \n",
              "\n",
              "             key_id  recognized                   timestamp word  \n",
              "0  6718004173733888        True  2017-03-01 21:44:26.601760  dog  \n",
              "1  5319657680535552        True  2017-03-05 10:02:39.659490  dog  \n",
              "2  6665679493136384        True  2017-03-05 10:43:54.155920  dog  \n",
              "3  6099729773494272        True  2017-03-05 04:37:45.214010  dog  \n",
              "4  4831731276316672        True  2017-03-10 22:40:57.248030  dog  "
            ]
          },
          "metadata": {
            "tags": []
          },
          "execution_count": 18
        }
      ]
    },
    {
      "metadata": {
        "id": "Ic_o9R9vJ9EV",
        "colab_type": "code",
        "colab": {}
      },
      "cell_type": "code",
      "source": [
        "def file_len(fname):\n",
        "    with open(fname) as f:\n",
        "        for i, l in enumerate(f):\n",
        "            pass\n",
        "    return i + 1"
      ],
      "execution_count": 0,
      "outputs": []
    },
    {
      "metadata": {
        "id": "CMY1yXmmKDyH",
        "colab_type": "code",
        "outputId": "943715d5-e06c-4f92-bd26-c447458d0fdf",
        "colab": {
          "base_uri": "https://localhost:8080/",
          "height": 50
        }
      },
      "cell_type": "code",
      "source": [
        "%%time\n",
        "def get_counts(path): return (path.stem, pd.read_csv(path).shape[0])\n",
        "with ThreadPoolExecutor(12) as e: counts = list(e.map(get_counts, Path('/content/data/train/').iterdir()))"
      ],
      "execution_count": 0,
      "outputs": [
        {
          "output_type": "stream",
          "text": [
            "CPU times: user 6min 30s, sys: 32.2 s, total: 7min 2s\n",
            "Wall time: 4min 58s\n"
          ],
          "name": "stdout"
        }
      ]
    },
    {
      "metadata": {
        "id": "xFArZNkENZ3c",
        "colab_type": "code",
        "colab": {}
      },
      "cell_type": "code",
      "source": [
        "BASE_SIZE = 256\n",
        "def draw_cv2(raw_strokes, size=256, lw=4, time_color=False):\n",
        "    img = np.zeros((BASE_SIZE, BASE_SIZE), np.uint8)\n",
        "    for t, stroke in enumerate(raw_strokes):\n",
        "        for i in range(len(stroke[0]) - 1):\n",
        "            color = 255 - min(t, 10) * 13 if time_color else 255\n",
        "            _ = cv2.line(img, (stroke[0][i], stroke[1][i]),\n",
        "                         (stroke[0][i + 1], stroke[1][i + 1]), color, lw)\n",
        "    img = cv2.copyMakeBorder(img,4,4,4,4,cv2.BORDER_CONSTANT)\n",
        "    if size != BASE_SIZE:\n",
        "        return cv2.resize(img, (size, size), interpolation=cv2.INTER_LINEAR)\n",
        "    else:\n",
        "        return img"
      ],
      "execution_count": 0,
      "outputs": []
    },
    {
      "metadata": {
        "id": "ZaEYVVbWKheo",
        "colab_type": "code",
        "outputId": "59f2cfcf-00de-4a43-ab36-b355e8aee013",
        "colab": {
          "base_uri": "https://localhost:8080/",
          "height": 286
        }
      },
      "cell_type": "code",
      "source": [
        "plt.imshow(draw_cv2(eval(df.loc[0, 'drawing']), size=224))"
      ],
      "execution_count": 0,
      "outputs": [
        {
          "output_type": "execute_result",
          "data": {
            "text/plain": [
              "<matplotlib.image.AxesImage at 0x7fc781e10eb8>"
            ]
          },
          "metadata": {
            "tags": []
          },
          "execution_count": 26
        },
        {
          "output_type": "display_data",
          "data": {
            "image/png": "[encoded data removed]",
            "text/plain": [
              "<matplotlib.figure.Figure at 0x7fc79a64a908>"
            ]
          },
          "metadata": {
            "tags": []
          }
        }
      ]
    },
    {
      "metadata": {
        "id": "aPtA0R4LOLjr",
        "colab_type": "code",
        "colab": {}
      },
      "cell_type": "code",
      "source": [
        "'''\n",
        "sz = 128 # size\n",
        "r = 0.01 # portion of images to keep, we want only 1% of total train data\n",
        "shutil.rmtree(f'data/train-{sz}', ignore_errors=True) # deleting whatever we have saved earlier\n",
        "os.makedirs(f'data/train-{sz}') # best to have where to save the images\n",
        "'''"
      ],
      "execution_count": 0,
      "outputs": []
    },
    {
      "metadata": {
        "id": "cucMT7ci-WWt",
        "colab_type": "code",
        "colab": {}
      },
      "cell_type": "code",
      "source": [
        "sz = 224 # size\n",
        "r = 0.2 # portion of images to keep, we want only 1% of total train data\n",
        "shutil.rmtree(f'data/train-{sz}', ignore_errors=True) # deleting whatever we have saved earlier\n",
        "os.makedirs(f'data/train-{sz}') # best to have where to save the images"
      ],
      "execution_count": 0,
      "outputs": []
    },
    {
      "metadata": {
        "id": "cZW6oS5QOObK",
        "colab_type": "code",
        "colab": {}
      },
      "cell_type": "code",
      "source": [
        "def save_ims_from_df(path):\n",
        "    df = pd.read_csv(path)\n",
        "    selected = df[df.recognized==True].sample(int(r * df.shape[0]))\n",
        "    for row in selected.iterrows():\n",
        "        idx, drawing, label = row[0], eval(row[1].drawing), '_'.join(row[1].word.split())\n",
        "        ary = draw_cv2(drawing, size=128)\n",
        "        rgb_ary = np.repeat(ary[:,:,None], 3, -1)\n",
        "        PIL.Image.fromarray(rgb_ary).save(f'data/train-{sz}/{label}_{idx}.png')"
      ],
      "execution_count": 0,
      "outputs": []
    },
    {
      "metadata": {
        "id": "AUWryB0Gq6yG",
        "colab_type": "code",
        "colab": {}
      },
      "cell_type": "code",
      "source": [
        "sz"
      ],
      "execution_count": 0,
      "outputs": []
    },
    {
      "metadata": {
        "id": "lDSG-5fLOOll",
        "colab_type": "code",
        "colab": {}
      },
      "cell_type": "code",
      "source": [
        "%%time\n",
        "with ThreadPoolExecutor(12) as e: e.map(save_ims_from_df, Path('/content/data/train/').iterdir())"
      ],
      "execution_count": 0,
      "outputs": []
    },
    {
      "metadata": {
        "id": "eW_U3kx8OOtz",
        "colab_type": "code",
        "colab": {}
      },
      "cell_type": "code",
      "source": [
        "!ls data/train-{sz} -lhS | head -n 10"
      ],
      "execution_count": 0,
      "outputs": []
    },
    {
      "metadata": {
        "id": "ccyLMkpsVgxg",
        "colab_type": "code",
        "colab": {}
      },
      "cell_type": "code",
      "source": [
        "PIL.Image.open(f'data/train-{sz}/blackberry_119360.png')"
      ],
      "execution_count": 0,
      "outputs": []
    },
    {
      "metadata": {
        "id": "XXxWamaLVg5D",
        "colab_type": "code",
        "colab": {}
      },
      "cell_type": "code",
      "source": [
        "df = pd.read_csv('/content/data/test_simplified.csv')"
      ],
      "execution_count": 0,
      "outputs": []
    },
    {
      "metadata": {
        "id": "6_tMZntLVg8K",
        "colab_type": "code",
        "colab": {}
      },
      "cell_type": "code",
      "source": [
        "df.head()"
      ],
      "execution_count": 0,
      "outputs": []
    },
    {
      "metadata": {
        "id": "FUpFfSegVg--",
        "colab_type": "code",
        "colab": {}
      },
      "cell_type": "code",
      "source": [
        "\n",
        "df.shape"
      ],
      "execution_count": 0,
      "outputs": []
    },
    {
      "metadata": {
        "id": "b3p8buoIXBr-",
        "colab_type": "code",
        "colab": {}
      },
      "cell_type": "code",
      "source": [
        "shutil.rmtree(f'data/test-{sz}', ignore_errors=True)\n",
        "os.makedirs(f'data/test-{sz}')"
      ],
      "execution_count": 0,
      "outputs": []
    },
    {
      "metadata": {
        "id": "kjSsTUV4XB5r",
        "colab_type": "code",
        "colab": {}
      },
      "cell_type": "code",
      "source": [
        "def save_test_ims_from_df(path):\n",
        "    df = pd.read_csv(path)\n",
        "    for row in df.iterrows():\n",
        "        key_id, drawing = row[1].key_id, eval(row[1].drawing)\n",
        "        ary = draw_cv2(drawing, size=128)\n",
        "        rgb_ary = np.repeat(ary[:,:,None], 3, -1)\n",
        "        PIL.Image.fromarray(rgb_ary).save(f'data/test-{sz}/{key_id}.png')"
      ],
      "execution_count": 0,
      "outputs": []
    },
    {
      "metadata": {
        "id": "ASfQIUmxXB8v",
        "colab_type": "code",
        "colab": {}
      },
      "cell_type": "code",
      "source": [
        "%time save_test_ims_from_df('/content/data/test_simplified.csv')"
      ],
      "execution_count": 0,
      "outputs": []
    },
    {
      "metadata": {
        "id": "tMvtyfSlZU53",
        "colab_type": "code",
        "colab": {}
      },
      "cell_type": "code",
      "source": [
        "ls -lht data/test-128 | head -n 10"
      ],
      "execution_count": 0,
      "outputs": []
    },
    {
      "metadata": {
        "id": "ltzObYtXZZFa",
        "colab_type": "code",
        "colab": {}
      },
      "cell_type": "code",
      "source": [
        "PIL.Image.open(f'data/test-{sz}/9999967586702768.png')"
      ],
      "execution_count": 0,
      "outputs": []
    },
    {
      "metadata": {
        "id": "iMiD7NFML6Z8",
        "colab_type": "code",
        "colab": {}
      },
      "cell_type": "code",
      "source": [
        "sz = 128\n",
        "\n",
        "path = Path('data')\n",
        "path_img = path/f'train-{sz}'"
      ],
      "execution_count": 0,
      "outputs": []
    },
    {
      "metadata": {
        "id": "KQB6h0gZOA6x",
        "colab_type": "code",
        "colab": {}
      },
      "cell_type": "code",
      "source": [
        "fnames = get_image_files(path_img)\n",
        "fnames[:5]"
      ],
      "execution_count": 0,
      "outputs": []
    },
    {
      "metadata": {
        "id": "0ixxmtI5OEQ0",
        "colab_type": "code",
        "colab": {}
      },
      "cell_type": "code",
      "source": [
        "pat = r'/([^/]+)_\\d+.png$'"
      ],
      "execution_count": 0,
      "outputs": []
    },
    {
      "metadata": {
        "id": "DKufnZTxZ0qB",
        "colab_type": "code",
        "colab": {}
      },
      "cell_type": "code",
      "source": [
        "data = ImageDataBunch.from_name_re(path_img, fnames, pat, ds_tfms=get_transforms(), size=128, test=Path('../test-128'), num_workers = 0)"
      ],
      "execution_count": 0,
      "outputs": []
    },
    {
      "metadata": {
        "id": "pBxftSc2Z4u3",
        "colab_type": "code",
        "colab": {}
      },
      "cell_type": "code",
      "source": [
        "data.normalize(imagenet_stats)"
      ],
      "execution_count": 0,
      "outputs": []
    },
    {
      "metadata": {
        "id": "oqcJQQVpZ-bu",
        "colab_type": "code",
        "colab": {}
      },
      "cell_type": "code",
      "source": [
        "data.show_batch(rows=3, figsize=(7,6))"
      ],
      "execution_count": 0,
      "outputs": []
    },
    {
      "metadata": {
        "id": "kYdXdjogaCmz",
        "colab_type": "code",
        "colab": {}
      },
      "cell_type": "code",
      "source": [
        "print(data.classes)\n",
        "len(data.classes),data.c"
      ],
      "execution_count": 0,
      "outputs": []
    },
    {
      "metadata": {
        "id": "fz_BjZyvaGs5",
        "colab_type": "code",
        "colab": {}
      },
      "cell_type": "code",
      "source": [
        "learn = create_cnn(data, models.resnet34, metrics=error_rate)"
      ],
      "execution_count": 0,
      "outputs": []
    },
    {
      "metadata": {
        "id": "ZHzeaTHxaKvr",
        "colab_type": "code",
        "colab": {}
      },
      "cell_type": "code",
      "source": [
        "learn.fit_one_cycle(4)"
      ],
      "execution_count": 0,
      "outputs": []
    },
    {
      "metadata": {
        "id": "Nt9WWaFsaRPf",
        "colab_type": "code",
        "colab": {}
      },
      "cell_type": "code",
      "source": [
        "learn.save('stage-1')"
      ],
      "execution_count": 0,
      "outputs": []
    },
    {
      "metadata": {
        "id": "Xn85AHODKdNR",
        "colab_type": "code",
        "colab": {}
      },
      "cell_type": "code",
      "source": [
        "interp = ClassificationInterpretation.from_learner(learn)"
      ],
      "execution_count": 0,
      "outputs": []
    },
    {
      "metadata": {
        "id": "CL3-p_WzKhE-",
        "colab_type": "code",
        "colab": {}
      },
      "cell_type": "code",
      "source": [
        "interp.plot_top_losses(9, figsize=(15,11))"
      ],
      "execution_count": 0,
      "outputs": []
    },
    {
      "metadata": {
        "id": "nCWUA9mGLglZ",
        "colab_type": "code",
        "colab": {}
      },
      "cell_type": "code",
      "source": [
        "learn.load('stage-1')"
      ],
      "execution_count": 0,
      "outputs": []
    },
    {
      "metadata": {
        "id": "NLoO3kfjLo4I",
        "colab_type": "code",
        "colab": {}
      },
      "cell_type": "code",
      "source": [
        "learn.unfreeze()"
      ],
      "execution_count": 0,
      "outputs": []
    },
    {
      "metadata": {
        "id": "k3sx8g22Lrbh",
        "colab_type": "code",
        "colab": {}
      },
      "cell_type": "code",
      "source": [
        "learn.lr_find()"
      ],
      "execution_count": 0,
      "outputs": []
    },
    {
      "metadata": {
        "id": "rbvjCSXvLuCf",
        "colab_type": "code",
        "colab": {}
      },
      "cell_type": "code",
      "source": [
        "learn.recorder.plot()"
      ],
      "execution_count": 0,
      "outputs": []
    },
    {
      "metadata": {
        "id": "6ax0xOzsM-pM",
        "colab_type": "code",
        "colab": {}
      },
      "cell_type": "code",
      "source": [
        "learn.fit_one_cycle(2, max_lr=slice(5e-6,3e-4))"
      ],
      "execution_count": 0,
      "outputs": []
    },
    {
      "metadata": {
        "id": "qcTsBtMmNDMO",
        "colab_type": "code",
        "colab": {}
      },
      "cell_type": "code",
      "source": [
        "learn.save('stage-2')"
      ],
      "execution_count": 0,
      "outputs": []
    },
    {
      "metadata": {
        "id": "H103w2qiajKC",
        "colab_type": "code",
        "colab": {}
      },
      "cell_type": "code",
      "source": [
        "learn.load('stage-2')"
      ],
      "execution_count": 0,
      "outputs": []
    },
    {
      "metadata": {
        "id": "QJUx4tffalwm",
        "colab_type": "code",
        "colab": {}
      },
      "cell_type": "code",
      "source": [
        "preds = learn.TTA(is_test=True)[0]"
      ],
      "execution_count": 0,
      "outputs": []
    },
    {
      "metadata": {
        "id": "WOC_Nu8caqC4",
        "colab_type": "code",
        "colab": {}
      },
      "cell_type": "code",
      "source": [
        "top_3 = np.argsort(preds.numpy())[:, ::-1][:, :3]"
      ],
      "execution_count": 0,
      "outputs": []
    },
    {
      "metadata": {
        "id": "XE5t8OQ5ayKq",
        "colab_type": "code",
        "colab": {}
      },
      "cell_type": "code",
      "source": [
        "n, _ = top_3.shape\n",
        "labels = []\n",
        "for i in range(n):\n",
        "    labels.append(' '.join([learn.data.train_ds.ds.classes[idx] for idx in top_3[i]]))"
      ],
      "execution_count": 0,
      "outputs": []
    },
    {
      "metadata": {
        "id": "s0Cc1FSlayHn",
        "colab_type": "code",
        "colab": {}
      },
      "cell_type": "code",
      "source": [
        "learn.data.test_dl.dl.dataset[0][0]"
      ],
      "execution_count": 0,
      "outputs": []
    },
    {
      "metadata": {
        "id": "Y47_8sMmayEf",
        "colab_type": "code",
        "colab": {}
      },
      "cell_type": "code",
      "source": [
        "labels[0]"
      ],
      "execution_count": 0,
      "outputs": []
    },
    {
      "metadata": {
        "id": "LjKoiptVayAr",
        "colab_type": "code",
        "colab": {}
      },
      "cell_type": "code",
      "source": [
        "key_ids = [path.stem for path in learn.data.test_dl.dl.dataset.x]"
      ],
      "execution_count": 0,
      "outputs": []
    },
    {
      "metadata": {
        "id": "-88PaGezax9X",
        "colab_type": "code",
        "colab": {}
      },
      "cell_type": "code",
      "source": [
        "os.makedirs(f'subs', exist_ok=True)"
      ],
      "execution_count": 0,
      "outputs": []
    },
    {
      "metadata": {
        "id": "V6GiGtAmbCIM",
        "colab_type": "code",
        "colab": {}
      },
      "cell_type": "code",
      "source": [
        "sub = pd.DataFrame({'key_id': key_ids, 'word': labels})"
      ],
      "execution_count": 0,
      "outputs": []
    },
    {
      "metadata": {
        "id": "pfXE4n1AbCEx",
        "colab_type": "code",
        "colab": {}
      },
      "cell_type": "code",
      "source": [
        "sub.head()"
      ],
      "execution_count": 0,
      "outputs": []
    },
    {
      "metadata": {
        "id": "Qr-QvE_lbCBg",
        "colab_type": "code",
        "colab": {}
      },
      "cell_type": "code",
      "source": [
        "name = 'first_sub'"
      ],
      "execution_count": 0,
      "outputs": []
    },
    {
      "metadata": {
        "id": "tc52E41hbB9j",
        "colab_type": "code",
        "colab": {}
      },
      "cell_type": "code",
      "source": [
        "sub.to_csv(f'subs/{name}.csv.gz', index=False, compression='gzip')"
      ],
      "execution_count": 0,
      "outputs": []
    },
    {
      "metadata": {
        "id": "_e4PeujdbNKT",
        "colab_type": "code",
        "colab": {}
      },
      "cell_type": "code",
      "source": [
        "pd.read_csv(f'subs/{name}.csv.gz').head()"
      ],
      "execution_count": 0,
      "outputs": []
    },
    {
      "metadata": {
        "id": "yDhwyoNqbNlb",
        "colab_type": "code",
        "colab": {}
      },
      "cell_type": "code",
      "source": [
        "!kaggle competitions submit -c quickdraw-doodle-recognition -f subs/{name}.csv.gz -m \"{name}\""
      ],
      "execution_count": 0,
      "outputs": []
    },
    {
      "metadata": {
        "id": "L2v0t_rxtx9H",
        "colab_type": "code",
        "colab": {}
      },
      "cell_type": "code",
      "source": [
        ""
      ],
      "execution_count": 0,
      "outputs": []
    }
  ]
}